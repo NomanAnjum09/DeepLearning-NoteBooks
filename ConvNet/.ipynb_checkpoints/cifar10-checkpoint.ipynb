{
 "cells": [
  {
   "cell_type": "code",
   "execution_count": 1,
   "metadata": {},
   "outputs": [
    {
     "name": "stderr",
     "output_type": "stream",
     "text": [
      "Using TensorFlow backend.\n"
     ]
    }
   ],
   "source": [
    "import numpy as np\n",
    "import pandas as pd\n",
    "import keras\n",
    "from keras.models import Sequential\n",
    "from keras.layers import Dense,Dropout,Conv2D,BatchNormalization,MaxPool2D,Flatten\n",
    "from keras.utils import to_categorical\n",
    "import seaborn as sns"
   ]
  },
  {
   "cell_type": "code",
   "execution_count": 2,
   "metadata": {},
   "outputs": [],
   "source": [
    "data = keras.datasets.cifar10.load_data()"
   ]
  },
  {
   "cell_type": "code",
   "execution_count": 3,
   "metadata": {},
   "outputs": [],
   "source": [
    "(X_train,y_train),(X_test,y_test) = keras.datasets.cifar10.load_data()"
   ]
  },
  {
   "cell_type": "code",
   "execution_count": 4,
   "metadata": {},
   "outputs": [
    {
     "name": "stdout",
     "output_type": "stream",
     "text": [
      "(50000, 32, 32, 3)\n",
      "(10000, 32, 32, 3)\n",
      "(50000, 1)\n",
      "(10000, 1)\n"
     ]
    }
   ],
   "source": [
    "print(X_train.shape)\n",
    "print(X_test.shape)\n",
    "print(y_train.shape)\n",
    "print(y_test.shape)"
   ]
  },
  {
   "cell_type": "code",
   "execution_count": 5,
   "metadata": {},
   "outputs": [
    {
     "data": {
      "text/plain": [
       "<matplotlib.image.AxesImage at 0x7ff0de0c23a0>"
      ]
     },
     "execution_count": 5,
     "metadata": {},
     "output_type": "execute_result"
    },
    {
     "data": {
      "image/png": "[encoded data removed]",
      "text/plain": [
       "<Figure size 864x864 with 1 Axes>"
      ]
     },
     "metadata": {
      "needs_background": "light"
     },
     "output_type": "display_data"
    }
   ],
   "source": [
    "import matplotlib.pyplot as plt\n",
    "plt.figure(figsize=(12,12))\n",
    "plt.imshow(X_train[0])"
   ]
  },
  {
   "cell_type": "code",
   "execution_count": 6,
   "metadata": {},
   "outputs": [],
   "source": [
    "X_train = X_train/255.\n",
    "X_test = X_test/255.\n",
    "\n",
    "y_test = to_categorical(y_test)\n",
    "y_train = to_categorical(y_train)"
   ]
  },
  {
   "cell_type": "code",
   "execution_count": 7,
   "metadata": {},
   "outputs": [
    {
     "data": {
      "text/plain": [
       "array([0., 0., 0., 0., 0., 0., 1., 0., 0., 0.], dtype=float32)"
      ]
     },
     "execution_count": 7,
     "metadata": {},
     "output_type": "execute_result"
    }
   ],
   "source": [
    "y_train[0]"
   ]
  },
  {
   "cell_type": "code",
   "execution_count": 8,
   "metadata": {},
   "outputs": [
    {
     "name": "stdout",
     "output_type": "stream",
     "text": [
      "Model: \"sequential_1\"\n",
      "_________________________________________________________________\n",
      "Layer (type)                 Output Shape              Param #   \n",
      "=================================================================\n",
      "conv2d_1 (Conv2D)            (None, 29, 29, 64)        3136      \n",
      "_________________________________________________________________\n",
      "batch_normalization_1 (Batch (None, 29, 29, 64)        256       \n",
      "_________________________________________________________________\n",
      "max_pooling2d_1 (MaxPooling2 (None, 14, 14, 64)        0         \n",
      "_________________________________________________________________\n",
      "conv2d_2 (Conv2D)            (None, 11, 11, 128)       131200    \n",
      "_________________________________________________________________\n",
      "batch_normalization_2 (Batch (None, 11, 11, 128)       512       \n",
      "_________________________________________________________________\n",
      "max_pooling2d_2 (MaxPooling2 (None, 5, 5, 128)         0         \n",
      "_________________________________________________________________\n",
      "conv2d_3 (Conv2D)            (None, 2, 2, 256)         524544    \n",
      "_________________________________________________________________\n",
      "batch_normalization_3 (Batch (None, 2, 2, 256)         1024      \n",
      "_________________________________________________________________\n",
      "max_pooling2d_3 (MaxPooling2 (None, 1, 1, 256)         0         \n",
      "_________________________________________________________________\n",
      "flatten_1 (Flatten)          (None, 256)               0         \n",
      "_________________________________________________________________\n",
      "dense_1 (Dense)              (None, 512)               131584    \n",
      "_________________________________________________________________\n",
      "dropout_1 (Dropout)          (None, 512)               0         \n",
      "_________________________________________________________________\n",
      "dense_2 (Dense)              (None, 10)                5130      \n",
      "=================================================================\n",
      "Total params: 797,386\n",
      "Trainable params: 796,490\n",
      "Non-trainable params: 896\n",
      "_________________________________________________________________\n"
     ]
    }
   ],
   "source": [
    "model = Sequential()\n",
    "model.add(Conv2D(64,kernel_size=(4,4),activation='relu',input_shape=(32,32,3),kernel_initializer='uniform'))\n",
    "model.add(BatchNormalization(momentum=0.9))\n",
    "model.add(MaxPool2D(pool_size=(2,2)))\n",
    "\n",
    "model.add(Conv2D(128,kernel_size=(4,4),activation='relu',kernel_initializer='uniform'))\n",
    "model.add(BatchNormalization(momentum=0.9))\n",
    "model.add(MaxPool2D(pool_size=(2,2)))\n",
    "\n",
    "model.add(Conv2D(256,kernel_size=(4,4),activation='relu',kernel_initializer='uniform'))\n",
    "model.add(BatchNormalization(momentum=0.9))\n",
    "model.add(MaxPool2D(pool_size=(2,2)))\n",
    "\n",
    "model.add(Flatten())\n",
    "\n",
    "model.add(Dense(512,activation='relu'))\n",
    "model.add(Dropout(0.5))\n",
    "model.add(Dense(10,activation='softmax'))\n",
    "model.summary()\n"
   ]
  },
  {
   "cell_type": "code",
   "execution_count": 9,
   "metadata": {},
   "outputs": [
    {
     "name": "stdout",
     "output_type": "stream",
     "text": [
      "Train on 50000 samples, validate on 10000 samples\n",
      "Epoch 1/20\n",
      "50000/50000 [==============================] - 204s 4ms/step - loss: 1.5207 - accuracy: 0.4626 - val_loss: 1.1815 - val_accuracy: 0.5812\n",
      "Epoch 2/20\n",
      "50000/50000 [==============================] - 207s 4ms/step - loss: 1.1441 - accuracy: 0.5999 - val_loss: 0.9844 - val_accuracy: 0.6558\n",
      "Epoch 3/20\n",
      "50000/50000 [==============================] - 200s 4ms/step - loss: 0.9642 - accuracy: 0.6643 - val_loss: 1.0875 - val_accuracy: 0.6332\n",
      "Epoch 4/20\n",
      "50000/50000 [==============================] - 198s 4ms/step - loss: 0.8386 - accuracy: 0.7081 - val_loss: 0.8821 - val_accuracy: 0.6992\n",
      "Epoch 5/20\n",
      "50000/50000 [==============================] - 199s 4ms/step - loss: 0.7316 - accuracy: 0.7466 - val_loss: 0.9326 - val_accuracy: 0.6953\n",
      "Epoch 6/20\n",
      "50000/50000 [==============================] - 205s 4ms/step - loss: 0.6452 - accuracy: 0.7764 - val_loss: 0.8466 - val_accuracy: 0.7168\n",
      "Epoch 7/20\n",
      "50000/50000 [==============================] - 195s 4ms/step - loss: 0.5609 - accuracy: 0.8055 - val_loss: 0.9714 - val_accuracy: 0.6973\n",
      "Epoch 8/20\n",
      "50000/50000 [==============================] - 214s 4ms/step - loss: 0.4871 - accuracy: 0.8317 - val_loss: 1.0245 - val_accuracy: 0.7031\n",
      "Epoch 9/20\n",
      "50000/50000 [==============================] - 223s 4ms/step - loss: 0.4207 - accuracy: 0.8539 - val_loss: 0.8984 - val_accuracy: 0.7317\n",
      "Epoch 10/20\n",
      "50000/50000 [==============================] - 211s 4ms/step - loss: 0.3748 - accuracy: 0.8724 - val_loss: 1.0706 - val_accuracy: 0.7011\n",
      "Epoch 11/20\n",
      "50000/50000 [==============================] - 221s 4ms/step - loss: 0.3341 - accuracy: 0.8846 - val_loss: 1.2576 - val_accuracy: 0.6947\n",
      "Epoch 12/20\n",
      "50000/50000 [==============================] - 220s 4ms/step - loss: 0.3023 - accuracy: 0.8959 - val_loss: 1.1441 - val_accuracy: 0.7073\n",
      "Epoch 13/20\n",
      "50000/50000 [==============================] - 231s 5ms/step - loss: 0.2710 - accuracy: 0.9079 - val_loss: 1.0308 - val_accuracy: 0.7399\n",
      "Epoch 14/20\n",
      "50000/50000 [==============================] - 215s 4ms/step - loss: 0.2424 - accuracy: 0.9177 - val_loss: 1.1573 - val_accuracy: 0.7376\n",
      "Epoch 15/20\n",
      "50000/50000 [==============================] - 216s 4ms/step - loss: 0.2228 - accuracy: 0.9233 - val_loss: 1.2249 - val_accuracy: 0.7299\n",
      "Epoch 16/20\n",
      "50000/50000 [==============================] - 228s 5ms/step - loss: 0.2066 - accuracy: 0.9288 - val_loss: 1.2707 - val_accuracy: 0.7279\n",
      "Epoch 17/20\n",
      "50000/50000 [==============================] - 219s 4ms/step - loss: 0.1965 - accuracy: 0.9333 - val_loss: 1.2213 - val_accuracy: 0.7379\n",
      "Epoch 18/20\n",
      "50000/50000 [==============================] - 222s 4ms/step - loss: 0.1871 - accuracy: 0.9379 - val_loss: 1.3474 - val_accuracy: 0.7286\n",
      "Epoch 19/20\n",
      "50000/50000 [==============================] - 252s 5ms/step - loss: 0.1673 - accuracy: 0.9449 - val_loss: 1.2621 - val_accuracy: 0.7289\n",
      "Epoch 20/20\n",
      "50000/50000 [==============================] - 208s 4ms/step - loss: 0.1586 - accuracy: 0.9465 - val_loss: 1.4092 - val_accuracy: 0.7304\n"
     ]
    },
    {
     "data": {
      "text/plain": [
       "<keras.callbacks.callbacks.History at 0x7ff18024aeb0>"
      ]
     },
     "execution_count": 9,
     "metadata": {},
     "output_type": "execute_result"
    }
   ],
   "source": [
    "model.compile(loss='categorical_crossentropy',metrics=['accuracy'],optimizer='adam')\n",
    "model.fit(X_train,y_train,epochs=20,validation_data=(X_test,y_test))"
   ]
  },
  {
   "cell_type": "code",
   "execution_count": 10,
   "metadata": {},
   "outputs": [],
   "source": [
    "import keras\n",
    "model.save('./Models/cifar')\n",
    "\n",
    "new_model = keras.models.load_model('./Models/cifar')\n"
   ]
  },
  {
   "cell_type": "code",
   "execution_count": 12,
   "metadata": {},
   "outputs": [
    {
     "data": {
      "text/plain": [
       "<matplotlib.axes._subplots.AxesSubplot at 0x7ff042983580>"
      ]
     },
     "execution_count": 12,
     "metadata": {},
     "output_type": "execute_result"
    },
    {
     "data": {
      "text/plain": [
       "<Figure size 864x864 with 0 Axes>"
      ]
     },
     "metadata": {},
     "output_type": "display_data"
    },
    {
     "data": {
      "image/png": "[encoded data removed]",
      "text/plain": [
       "<Figure size 432x288 with 1 Axes>"
      ]
     },
     "metadata": {
      "needs_background": "light"
     },
     "output_type": "display_data"
    }
   ],
   "source": [
    "history = pd.DataFrame(model.history.history)\n",
    "history.plot()"
   ]
  },
  {
   "cell_type": "code",
   "execution_count": 24,
   "metadata": {},
   "outputs": [
    {
     "name": "stdout",
     "output_type": "stream",
     "text": [
      "4\n",
      "4\n"
     ]
    }
   ],
   "source": [
    "result = new_model.predict([[X_test[40]]])\n",
    "print(np.argmax(result))\n",
    "print(np.argmax(y_test[40]))"
   ]
  },
  {
   "cell_type": "code",
   "execution_count": null,
   "metadata": {},
   "outputs": [],
   "source": []
  }
 ],
 "metadata": {
  "kernelspec": {
   "display_name": "Python 3",
   "language": "python",
   "name": "python3"
  },
  "language_info": {
   "codemirror_mode": {
    "name": "ipython",
    "version": 3
   },
   "file_extension": ".py",
   "mimetype": "text/x-python",
   "name": "python",
   "nbconvert_exporter": "python",
   "pygments_lexer": "ipython3",
   "version": "3.8.2"
  }
 },
 "nbformat": 4,
 "nbformat_minor": 4
}
