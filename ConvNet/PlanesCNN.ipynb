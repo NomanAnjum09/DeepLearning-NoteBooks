{
 "cells": [
  {
   "cell_type": "code",
   "execution_count": 59,
   "metadata": {},
   "outputs": [],
   "source": [
    "import json\n",
    "import numpy as np\n",
    "import tensorflow as tf\n",
    "from keras.layers import Conv2D,Dropout,MaxPool2D,BatchNormalization,Dense,Flatten\n",
    "from keras.models import Sequential\n",
    "import pandas as pd\n",
    "from keras.utils import to_categorical\n",
    "from sklearn.model_selection import train_test_split"
   ]
  },
  {
   "cell_type": "code",
   "execution_count": 37,
   "metadata": {},
   "outputs": [],
   "source": [
    "f = open('planes.json')\n",
    "planesnet = json.load(f)\n",
    "f.close()"
   ]
  },
  {
   "cell_type": "code",
   "execution_count": 11,
   "metadata": {},
   "outputs": [
    {
     "name": "stdout",
     "output_type": "stream",
     "text": [
      "[0 1]\n"
     ]
    }
   ],
   "source": [
    "print(np.unique(planesnet.labels))"
   ]
  },
  {
   "cell_type": "code",
   "execution_count": 47,
   "metadata": {},
   "outputs": [],
   "source": [
    "#Preprocessing\n",
    "X = np.array(planesnet['data'])/255.\n",
    "X = X.reshape(-1,20,20,3)\n",
    "Y = np.array(planesnet['labels'])\n",
    "Y = to_categorical(Y,2)"
   ]
  },
  {
   "cell_type": "code",
   "execution_count": 60,
   "metadata": {},
   "outputs": [],
   "source": [
    "#Data Preprocessing\n",
    "\n",
    "X_train,X_test,y_train,y_test = train_test_split(X,Y,train_size=0.8,random_state=1)"
   ]
  },
  {
   "cell_type": "code",
   "execution_count": 56,
   "metadata": {},
   "outputs": [],
   "source": [
    "model = Sequential()\n",
    "model.add(Conv2D(32,(3,3),padding='same',activation='relu',kernel_initializer='he_uniform',input_shape=[20,20,3]))\n",
    "model.add(BatchNormalization())\n",
    "model.add(MaxPool2D((2,2)))\n",
    "model.add(Conv2D(64,(3,3),activation='relu',kernel_initializer='he_uniform',padding='same'))\n",
    "model.add(BatchNormalization())\n",
    "model.add(Conv2D(64,(3,3),activation='relu',kernel_initializer='he_uniform',padding='same'))\n",
    "\n",
    "model.add(Flatten())\n",
    "\n",
    "model.add(Dense(1024,activation='relu'))\n",
    "model.add(Dropout((0.5)))\n",
    "model.add(Dense(512,activation='relu'))\n",
    "model.add(Dropout((0.5)))\n",
    "model.add(Dense(2,activation='softmax'))\n",
    "\n",
    "model.compile(optimizer='adam',loss='categorical_crossentropy',metrics=['accuracy'])\n"
   ]
  },
  {
   "cell_type": "code",
   "execution_count": 57,
   "metadata": {},
   "outputs": [
    {
     "name": "stdout",
     "output_type": "stream",
     "text": [
      "Model: \"sequential_5\"\n",
      "_________________________________________________________________\n",
      "Layer (type)                 Output Shape              Param #   \n",
      "=================================================================\n",
      "conv2d_9 (Conv2D)            (None, 20, 20, 32)        896       \n",
      "_________________________________________________________________\n",
      "batch_normalization_5 (Batch (None, 20, 20, 32)        128       \n",
      "_________________________________________________________________\n",
      "max_pooling2d_3 (MaxPooling2 (None, 10, 10, 32)        0         \n",
      "_________________________________________________________________\n",
      "conv2d_10 (Conv2D)           (None, 10, 10, 64)        18496     \n",
      "_________________________________________________________________\n",
      "batch_normalization_6 (Batch (None, 10, 10, 64)        256       \n",
      "_________________________________________________________________\n",
      "conv2d_11 (Conv2D)           (None, 10, 10, 64)        36928     \n",
      "_________________________________________________________________\n",
      "flatten_3 (Flatten)          (None, 6400)              0         \n",
      "_________________________________________________________________\n",
      "dense_7 (Dense)              (None, 1024)              6554624   \n",
      "_________________________________________________________________\n",
      "dropout_5 (Dropout)          (None, 1024)              0         \n",
      "_________________________________________________________________\n",
      "dense_8 (Dense)              (None, 512)               524800    \n",
      "_________________________________________________________________\n",
      "dropout_6 (Dropout)          (None, 512)               0         \n",
      "_________________________________________________________________\n",
      "dense_9 (Dense)              (None, 2)                 1026      \n",
      "=================================================================\n",
      "Total params: 7,137,154\n",
      "Trainable params: 7,136,962\n",
      "Non-trainable params: 192\n",
      "_________________________________________________________________\n"
     ]
    }
   ],
   "source": [
    "model.summary()"
   ]
  },
  {
   "cell_type": "code",
   "execution_count": 62,
   "metadata": {},
   "outputs": [
    {
     "name": "stdout",
     "output_type": "stream",
     "text": [
      "Train on 25600 samples, validate on 6400 samples\n",
      "Epoch 1/10\n",
      "25600/25600 [==============================] - 88s 3ms/step - loss: 0.1944 - accuracy: 0.9254 - val_loss: 0.2636 - val_accuracy: 0.8611\n",
      "Epoch 2/10\n",
      "25600/25600 [==============================] - 94s 4ms/step - loss: 0.1037 - accuracy: 0.9618 - val_loss: 0.1364 - val_accuracy: 0.9455\n",
      "Epoch 3/10\n",
      "25600/25600 [==============================] - 86s 3ms/step - loss: 0.0789 - accuracy: 0.9719 - val_loss: 0.0987 - val_accuracy: 0.9641\n",
      "Epoch 4/10\n",
      "25600/25600 [==============================] - 80s 3ms/step - loss: 0.0629 - accuracy: 0.9780 - val_loss: 0.0895 - val_accuracy: 0.9673\n",
      "Epoch 5/10\n",
      "25600/25600 [==============================] - 80s 3ms/step - loss: 0.0519 - accuracy: 0.9810 - val_loss: 0.0817 - val_accuracy: 0.9725\n",
      "Epoch 6/10\n",
      "25600/25600 [==============================] - 73s 3ms/step - loss: 0.0444 - accuracy: 0.9834 - val_loss: 0.0722 - val_accuracy: 0.9750\n",
      "Epoch 7/10\n",
      "25600/25600 [==============================] - 73s 3ms/step - loss: 0.0377 - accuracy: 0.9867 - val_loss: 0.3209 - val_accuracy: 0.8995\n",
      "Epoch 8/10\n",
      "25600/25600 [==============================] - 73s 3ms/step - loss: 0.0376 - accuracy: 0.9852 - val_loss: 0.1648 - val_accuracy: 0.9523\n",
      "Epoch 9/10\n",
      "25600/25600 [==============================] - 73s 3ms/step - loss: 0.0303 - accuracy: 0.9893 - val_loss: 0.1000 - val_accuracy: 0.9647\n",
      "Epoch 10/10\n",
      "25600/25600 [==============================] - 73s 3ms/step - loss: 0.0285 - accuracy: 0.9900 - val_loss: 0.1156 - val_accuracy: 0.9644\n"
     ]
    },
    {
     "data": {
      "text/plain": [
       "<keras.callbacks.callbacks.History at 0x7f3690137070>"
      ]
     },
     "execution_count": 62,
     "metadata": {},
     "output_type": "execute_result"
    }
   ],
   "source": [
    "model.fit(X_train,y_train,epochs=10,shuffle=True,batch_size=128,verbose=1,validation_data=(X_test,y_test))"
   ]
  },
  {
   "cell_type": "code",
   "execution_count": 65,
   "metadata": {},
   "outputs": [],
   "source": [
    "from keras.models import model_from_json\n",
    "model_json = model.to_json()\n",
    "with open(\"./Model/PlaneModel.json\", \"w\") as json_file:\n",
    "    json_file.write(model_json)\n",
    "# serialize weights to HDF5\n",
    "model.save_weights(\"./Models/PlaneModel.h5\")"
   ]
  },
  {
   "cell_type": "code",
   "execution_count": 79,
   "metadata": {},
   "outputs": [
    {
     "name": "stdout",
     "output_type": "stream",
     "text": [
      "Loaded model from disk\n"
     ]
    }
   ],
   "source": [
    "json_file = open('./Models/PlaneModel.json', 'r')\n",
    "loaded_model_json = json_file.read()\n",
    "json_file.close()\n",
    "loaded_model = model_from_json(loaded_model_json)\n",
    "# load weights into new model\n",
    "loaded_model.load_weights(\"./Models/PlaneModel.h5\")\n",
    "print(\"Loaded model from disk\")\n"
   ]
  },
  {
   "cell_type": "code",
   "execution_count": 80,
   "metadata": {},
   "outputs": [
    {
     "name": "stdout",
     "output_type": "stream",
     "text": [
      "Original = [0. 1.] Predicted = [[0. 1.]]\n"
     ]
    }
   ],
   "source": [
    "result = loaded_model.predict(X_test[500].reshape(1,20,20,3))\n",
    "print(\"Original = {} Predicted = {}\".format(y_test[500],np.round(result)))"
   ]
  },
  {
   "cell_type": "code",
   "execution_count": 81,
   "metadata": {},
   "outputs": [
    {
     "name": "stdout",
     "output_type": "stream",
     "text": [
      "(6400, 20, 20, 3)\n",
      "(20, 20, 3)\n"
     ]
    }
   ],
   "source": [
    "print(X_test.shape)\n",
    "print(X_test[0].shape)"
   ]
  },
  {
   "cell_type": "code",
   "execution_count": null,
   "metadata": {},
   "outputs": [],
   "source": []
  }
 ],
 "metadata": {
  "kernelspec": {
   "display_name": "Python 3",
   "language": "python",
   "name": "python3"
  },
  "language_info": {
   "codemirror_mode": {
    "name": "ipython",
    "version": 3
   },
   "file_extension": ".py",
   "mimetype": "text/x-python",
   "name": "python",
   "nbconvert_exporter": "python",
   "pygments_lexer": "ipython3",
   "version": "3.8.2"
  }
 },
 "nbformat": 4,
 "nbformat_minor": 4
}
