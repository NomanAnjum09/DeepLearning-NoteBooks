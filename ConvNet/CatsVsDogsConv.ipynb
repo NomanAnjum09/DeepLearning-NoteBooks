{
 "cells": [
  {
   "cell_type": "code",
   "execution_count": 1,
   "metadata": {},
   "outputs": [],
   "source": [
    "import cv2\n",
    "import numpy as np\n",
    "import os\n",
    "from random import shuffle\n",
    "import tensorflow as tf\n",
    "import matplotlib.pyplot as plt\n",
    "from tqdm import tqdm\n"
   ]
  },
  {
   "cell_type": "code",
   "execution_count": 2,
   "metadata": {},
   "outputs": [],
   "source": [
    "TRAIN_DIR = 'dataset/training_set'\n",
    "IMG_SIZE = 64\n",
    "LR = 1e-3\n",
    "MODEL_NAME = 'dogs-vs-cats-convnet'"
   ]
  },
  {
   "cell_type": "code",
   "execution_count": 3,
   "metadata": {},
   "outputs": [],
   "source": [
    "def create_label(img_name):\n",
    "    word_label = img_name.split('.')[-3]\n",
    "    if word_label == 'cat':\n",
    "        return np.int32(0)\n",
    "    else:\n",
    "        return np.int(1)"
   ]
  },
  {
   "cell_type": "code",
   "execution_count": 4,
   "metadata": {},
   "outputs": [],
   "source": [
    "def create_train_data():\n",
    "    training_data = []\n",
    "    for img in tqdm(os.listdir(TRAIN_DIR)):\n",
    "        path = os.path.join(TRAIN_DIR,img)\n",
    "        img_data = cv2.imread(path)\n",
    "        #print(path)\n",
    "        img_data = cv2.resize(img_data,(IMG_SIZE,IMG_SIZE))\n",
    "        training_data.append([np.array(img_data),create_label(img)])\n",
    "    shuffle(training_data)\n",
    "    np.save('dataset/train_data.npy',training_data)\n",
    "    return training_data"
   ]
  },
  {
   "cell_type": "code",
   "execution_count": 5,
   "metadata": {},
   "outputs": [
    {
     "name": "stderr",
     "output_type": "stream",
     "text": [
      "100%|██████████| 8000/8000 [-5:01:38<00:00, -0.45it/s]\n"
     ]
    }
   ],
   "source": [
    "train_data = create_train_data()"
   ]
  },
  {
   "cell_type": "code",
   "execution_count": 6,
   "metadata": {},
   "outputs": [
    {
     "name": "stdout",
     "output_type": "stream",
     "text": [
      "(8000, 2)\n"
     ]
    },
    {
     "data": {
      "text/plain": [
       "<matplotlib.image.AxesImage at 0x7f180cf806a0>"
      ]
     },
     "execution_count": 6,
     "metadata": {},
     "output_type": "execute_result"
    },
    {
     "data": {
      "image/png": "[encoded data removed]",
      "text/plain": [
       "<Figure size 432x288 with 1 Axes>"
      ]
     },
     "metadata": {
      "needs_background": "light"
     },
     "output_type": "display_data"
    }
   ],
   "source": [
    "print(np.array(train_data).shape)\n",
    "plt.imshow(train_data[55][0])"
   ]
  },
  {
   "cell_type": "code",
   "execution_count": 7,
   "metadata": {},
   "outputs": [
    {
     "name": "stdout",
     "output_type": "stream",
     "text": [
      "8000\n"
     ]
    }
   ],
   "source": [
    "# split and reshape data to 50X50\n",
    "print(len(train_data))\n",
    "train = train_data[:-200]\n",
    "test = train_data[-500:]\n",
    "X_train = np.array([i[0] for i in train]).reshape([-1,IMG_SIZE,IMG_SIZE,3])\n",
    "y_train = [i[1] for i in train]\n",
    "\n",
    "X_test = np.array([i[0] for i in test]).reshape(-1,IMG_SIZE,IMG_SIZE,3)\n",
    "y_test = [i[1] for i in test]"
   ]
  },
  {
   "cell_type": "code",
   "execution_count": 8,
   "metadata": {},
   "outputs": [
    {
     "name": "stderr",
     "output_type": "stream",
     "text": [
      "Using TensorFlow backend.\n"
     ]
    }
   ],
   "source": [
    "#Using Buitin CNN\n",
    "from tensorflow.python.framework import ops\n",
    "ops.reset_default_graph()\n",
    "from tensorflow.keras.layers import Input,Conv2D,Dropout,MaxPool2D,Dense,Flatten,BatchNormalization\n",
    "from tensorflow.keras.models import Sequential\n",
    "from tensorflow.keras.optimizers import SGD\n",
    "from keras.applications.vgg16 import VGG16\n",
    "\n",
    "\n",
    "#model = VGG16(include_top=False, input_shape=(IMG_SIZE,IMG_SIZE,3))\n",
    "model = Sequential()\n",
    "\n",
    "# A conv layer with 32 filters and 5 strides with fun relu\n",
    "model.add(Conv2D(filters=64,kernel_size=(3,3),activation=\"relu\",kernel_initializer=\"he_uniform\",padding='same',input_shape=[IMG_SIZE,IMG_SIZE,3]))\n",
    "model.add(BatchNormalization())\n",
    "model.add(MaxPool2D(pool_size=(2,2)))\n",
    "model.add(Dropout(0.25))\n",
    "\n",
    "model.add(Conv2D(filters=128,kernel_size=(3,3),activation=\"relu\",kernel_initializer=\"he_uniform\"))\n",
    "model.add(BatchNormalization())\n",
    "model.add(MaxPool2D(pool_size=(2,2)))\n",
    "model.add(Dropout(0.25))\n",
    "\n",
    "model.add(Conv2D(filters=512,kernel_size=(3,3),activation=\"relu\",kernel_initializer=\"he_uniform\"))\n",
    "model.add(BatchNormalization())\n",
    "model.add(MaxPool2D(pool_size=(2,2)))\n",
    "model.add(Dropout(0.25))\n",
    "\n",
    "model.add(Conv2D(filters=1024,kernel_size=(3,3),activation=\"relu\",kernel_initializer=\"he_uniform\"))\n",
    "model.add(BatchNormalization())\n",
    "model.add(MaxPool2D(pool_size=(2,2)))\n",
    "model.add(Dropout(0.25))\n",
    "          \n",
    "model.add(Flatten())\n",
    "    \n",
    "#Fully CONNECTED Layer with 1024 neurons\n",
    "model.add(Dense(1024,activation=\"relu\"))\n",
    "model.add(BatchNormalization())\n",
    "model.add(Dropout(0.8))\n",
    "model.add(Dense(1,activation=\"sigmoid\"))\n",
    "#A dropout with keep probab of 0.8 to finish the model\n",
    "opt = SGD(learning_rate=0.001,momentum=0.9)\n",
    "model.compile(optimizer=opt,loss=\"binary_crossentropy\",metrics=['accuracy'])"
   ]
  },
  {
   "cell_type": "code",
   "execution_count": 9,
   "metadata": {},
   "outputs": [
    {
     "name": "stdout",
     "output_type": "stream",
     "text": [
      "(7800, 64, 64, 3)\n",
      "7800\n",
      "(500, 64, 64, 3)\n",
      "500\n",
      "Model: \"sequential\"\n",
      "_________________________________________________________________\n",
      "Layer (type)                 Output Shape              Param #   \n",
      "=================================================================\n",
      "conv2d (Conv2D)              (None, 64, 64, 64)        1792      \n",
      "_________________________________________________________________\n",
      "batch_normalization (BatchNo (None, 64, 64, 64)        256       \n",
      "_________________________________________________________________\n",
      "max_pooling2d (MaxPooling2D) (None, 32, 32, 64)        0         \n",
      "_________________________________________________________________\n",
      "dropout (Dropout)            (None, 32, 32, 64)        0         \n",
      "_________________________________________________________________\n",
      "conv2d_1 (Conv2D)            (None, 30, 30, 128)       73856     \n",
      "_________________________________________________________________\n",
      "batch_normalization_1 (Batch (None, 30, 30, 128)       512       \n",
      "_________________________________________________________________\n",
      "max_pooling2d_1 (MaxPooling2 (None, 15, 15, 128)       0         \n",
      "_________________________________________________________________\n",
      "dropout_1 (Dropout)          (None, 15, 15, 128)       0         \n",
      "_________________________________________________________________\n",
      "conv2d_2 (Conv2D)            (None, 13, 13, 512)       590336    \n",
      "_________________________________________________________________\n",
      "batch_normalization_2 (Batch (None, 13, 13, 512)       2048      \n",
      "_________________________________________________________________\n",
      "max_pooling2d_2 (MaxPooling2 (None, 6, 6, 512)         0         \n",
      "_________________________________________________________________\n",
      "dropout_2 (Dropout)          (None, 6, 6, 512)         0         \n",
      "_________________________________________________________________\n",
      "conv2d_3 (Conv2D)            (None, 4, 4, 1024)        4719616   \n",
      "_________________________________________________________________\n",
      "batch_normalization_3 (Batch (None, 4, 4, 1024)        4096      \n",
      "_________________________________________________________________\n",
      "max_pooling2d_3 (MaxPooling2 (None, 2, 2, 1024)        0         \n",
      "_________________________________________________________________\n",
      "dropout_3 (Dropout)          (None, 2, 2, 1024)        0         \n",
      "_________________________________________________________________\n",
      "flatten (Flatten)            (None, 4096)              0         \n",
      "_________________________________________________________________\n",
      "dense (Dense)                (None, 1024)              4195328   \n",
      "_________________________________________________________________\n",
      "batch_normalization_4 (Batch (None, 1024)              4096      \n",
      "_________________________________________________________________\n",
      "dropout_4 (Dropout)          (None, 1024)              0         \n",
      "_________________________________________________________________\n",
      "dense_1 (Dense)              (None, 1)                 1025      \n",
      "=================================================================\n",
      "Total params: 9,592,961\n",
      "Trainable params: 9,587,457\n",
      "Non-trainable params: 5,504\n",
      "_________________________________________________________________\n"
     ]
    }
   ],
   "source": [
    "print(X_train.shape)\n",
    "print(len(y_train))\n",
    "print(X_test.shape)\n",
    "print(len(y_test))\n",
    "model.summary()\n"
   ]
  },
  {
   "cell_type": "code",
   "execution_count": 10,
   "metadata": {},
   "outputs": [
    {
     "name": "stdout",
     "output_type": "stream",
     "text": [
      "Epoch 1/50\n",
      "78/78 [==============================] - 224s 3s/step - loss: 1.1536 - accuracy: 0.5590 - val_loss: 1.0398 - val_accuracy: 0.5280\n",
      "Epoch 2/50\n",
      "78/78 [==============================] - 221s 3s/step - loss: 0.8946 - accuracy: 0.5859 - val_loss: 0.6040 - val_accuracy: 0.6600\n",
      "Epoch 3/50\n",
      "78/78 [==============================] - 234s 3s/step - loss: 0.7567 - accuracy: 0.6053 - val_loss: 0.6016 - val_accuracy: 0.6740\n",
      "Epoch 4/50\n",
      "78/78 [==============================] - 238s 3s/step - loss: 0.6873 - accuracy: 0.6219 - val_loss: 0.5892 - val_accuracy: 0.6920\n",
      "Epoch 5/50\n",
      "78/78 [==============================] - 234s 3s/step - loss: 0.6463 - accuracy: 0.6356 - val_loss: 0.5844 - val_accuracy: 0.6940\n",
      "Epoch 6/50\n",
      "78/78 [==============================] - 226s 3s/step - loss: 0.6497 - accuracy: 0.6387 - val_loss: 0.5723 - val_accuracy: 0.7040\n",
      "Epoch 7/50\n",
      "78/78 [==============================] - 230s 3s/step - loss: 0.6416 - accuracy: 0.6445 - val_loss: 0.6158 - val_accuracy: 0.6820\n",
      "Epoch 8/50\n",
      "78/78 [==============================] - 220s 3s/step - loss: 0.6346 - accuracy: 0.6424 - val_loss: 0.5668 - val_accuracy: 0.7100\n",
      "Epoch 9/50\n",
      "78/78 [==============================] - 211s 3s/step - loss: 0.6272 - accuracy: 0.6640 - val_loss: 0.5703 - val_accuracy: 0.7120\n",
      "Epoch 10/50\n",
      "78/78 [==============================] - 212s 3s/step - loss: 0.6171 - accuracy: 0.6697 - val_loss: 0.5512 - val_accuracy: 0.7380\n",
      "Epoch 11/50\n",
      "78/78 [==============================] - 212s 3s/step - loss: 0.6119 - accuracy: 0.6721 - val_loss: 0.5655 - val_accuracy: 0.7100\n",
      "Epoch 12/50\n",
      "78/78 [==============================] - 211s 3s/step - loss: 0.6023 - accuracy: 0.6849 - val_loss: 0.5848 - val_accuracy: 0.6920\n",
      "Epoch 13/50\n",
      "78/78 [==============================] - 211s 3s/step - loss: 0.5942 - accuracy: 0.6885 - val_loss: 0.5530 - val_accuracy: 0.7080\n",
      "Epoch 14/50\n",
      "78/78 [==============================] - 210s 3s/step - loss: 0.5898 - accuracy: 0.6914 - val_loss: 0.5686 - val_accuracy: 0.7120\n",
      "Epoch 15/50\n",
      "78/78 [==============================] - 210s 3s/step - loss: 0.5850 - accuracy: 0.6929 - val_loss: 0.5764 - val_accuracy: 0.7020\n",
      "Epoch 16/50\n",
      "78/78 [==============================] - 216s 3s/step - loss: 0.5766 - accuracy: 0.6999 - val_loss: 0.6106 - val_accuracy: 0.6960\n",
      "Epoch 17/50\n",
      "78/78 [==============================] - 217s 3s/step - loss: 0.5730 - accuracy: 0.7037 - val_loss: 0.6288 - val_accuracy: 0.6920\n",
      "Epoch 18/50\n",
      "78/78 [==============================] - 234s 3s/step - loss: 0.5673 - accuracy: 0.7106 - val_loss: 0.5687 - val_accuracy: 0.7060\n",
      "Epoch 19/50\n",
      "78/78 [==============================] - 225s 3s/step - loss: 0.5644 - accuracy: 0.7138 - val_loss: 0.5969 - val_accuracy: 0.7080\n",
      "Epoch 20/50\n",
      "78/78 [==============================] - 241s 3s/step - loss: 0.5523 - accuracy: 0.7235 - val_loss: 0.5468 - val_accuracy: 0.7280\n",
      "Epoch 21/50\n",
      "78/78 [==============================] - 226s 3s/step - loss: 0.5443 - accuracy: 0.7318 - val_loss: 0.6379 - val_accuracy: 0.7040\n",
      "Epoch 22/50\n",
      "78/78 [==============================] - 309s 4s/step - loss: 0.5463 - accuracy: 0.7242 - val_loss: 0.4917 - val_accuracy: 0.7600\n",
      "Epoch 23/50\n",
      "78/78 [==============================] - 361s 5s/step - loss: 0.5367 - accuracy: 0.7347 - val_loss: 0.4803 - val_accuracy: 0.7620\n",
      "Epoch 24/50\n",
      "78/78 [==============================] - 393s 5s/step - loss: 0.5357 - accuracy: 0.7323 - val_loss: 0.4920 - val_accuracy: 0.7560\n",
      "Epoch 25/50\n",
      "78/78 [==============================] - 381s 5s/step - loss: 0.5260 - accuracy: 0.7356 - val_loss: 0.5552 - val_accuracy: 0.7280\n",
      "Epoch 26/50\n",
      "78/78 [==============================] - 379s 5s/step - loss: 0.5240 - accuracy: 0.7401 - val_loss: 0.5550 - val_accuracy: 0.7360\n",
      "Epoch 27/50\n",
      "78/78 [==============================] - 251s 3s/step - loss: 0.5195 - accuracy: 0.7435 - val_loss: 0.5154 - val_accuracy: 0.7560\n",
      "Epoch 28/50\n",
      "78/78 [==============================] - 249s 3s/step - loss: 0.5174 - accuracy: 0.7444 - val_loss: 0.5587 - val_accuracy: 0.7280\n",
      "Epoch 29/50\n",
      "78/78 [==============================] - 247s 3s/step - loss: 0.5070 - accuracy: 0.7545 - val_loss: 0.5420 - val_accuracy: 0.7480\n",
      "Epoch 30/50\n",
      "78/78 [==============================] - 245s 3s/step - loss: 0.5052 - accuracy: 0.7563 - val_loss: 0.5593 - val_accuracy: 0.7420\n",
      "Epoch 31/50\n",
      "78/78 [==============================] - 242s 3s/step - loss: 0.5013 - accuracy: 0.7562 - val_loss: 0.5375 - val_accuracy: 0.7520\n",
      "Epoch 32/50\n",
      "78/78 [==============================] - 241s 3s/step - loss: 0.4963 - accuracy: 0.7624 - val_loss: 0.6063 - val_accuracy: 0.7260\n",
      "Epoch 33/50\n",
      "78/78 [==============================] - 242s 3s/step - loss: 0.4869 - accuracy: 0.7668 - val_loss: 0.5639 - val_accuracy: 0.7440\n",
      "Epoch 34/50\n",
      "78/78 [==============================] - 235s 3s/step - loss: 0.4973 - accuracy: 0.7604 - val_loss: 0.5499 - val_accuracy: 0.7440\n",
      "Epoch 35/50\n",
      "78/78 [==============================] - 223s 3s/step - loss: 0.4837 - accuracy: 0.7674 - val_loss: 0.6230 - val_accuracy: 0.7300\n",
      "Epoch 36/50\n",
      "78/78 [==============================] - 237s 3s/step - loss: 0.4834 - accuracy: 0.7609 - val_loss: 0.5632 - val_accuracy: 0.7460\n",
      "Epoch 37/50\n",
      "78/78 [==============================] - 237s 3s/step - loss: 0.4760 - accuracy: 0.7787 - val_loss: 0.5134 - val_accuracy: 0.7620\n",
      "Epoch 38/50\n",
      "78/78 [==============================] - 238s 3s/step - loss: 0.4757 - accuracy: 0.7708 - val_loss: 0.6867 - val_accuracy: 0.7160\n",
      "Epoch 39/50\n",
      "78/78 [==============================] - 231s 3s/step - loss: 0.4697 - accuracy: 0.7747 - val_loss: 0.6335 - val_accuracy: 0.7280\n",
      "Epoch 40/50\n",
      "78/78 [==============================] - 240s 3s/step - loss: 0.4621 - accuracy: 0.7838 - val_loss: 0.6939 - val_accuracy: 0.7160\n",
      "Epoch 41/50\n",
      "78/78 [==============================] - 239s 3s/step - loss: 0.4653 - accuracy: 0.7847 - val_loss: 0.5432 - val_accuracy: 0.7720\n",
      "Epoch 42/50\n",
      "78/78 [==============================] - 242s 3s/step - loss: 0.4556 - accuracy: 0.7864 - val_loss: 0.5333 - val_accuracy: 0.7620\n",
      "Epoch 43/50\n",
      "78/78 [==============================] - 235s 3s/step - loss: 0.4596 - accuracy: 0.7854 - val_loss: 0.5770 - val_accuracy: 0.7460\n",
      "Epoch 44/50\n",
      "78/78 [==============================] - 231s 3s/step - loss: 0.4526 - accuracy: 0.7882 - val_loss: 0.4915 - val_accuracy: 0.7820\n",
      "Epoch 45/50\n",
      "78/78 [==============================] - 231s 3s/step - loss: 0.4503 - accuracy: 0.7885 - val_loss: 0.5430 - val_accuracy: 0.7620\n",
      "Epoch 46/50\n",
      "78/78 [==============================] - 222s 3s/step - loss: 0.4433 - accuracy: 0.7922 - val_loss: 0.6413 - val_accuracy: 0.7440\n",
      "Epoch 47/50\n",
      "78/78 [==============================] - 222s 3s/step - loss: 0.4470 - accuracy: 0.7912 - val_loss: 0.5520 - val_accuracy: 0.7740\n",
      "Epoch 48/50\n",
      "78/78 [==============================] - 221s 3s/step - loss: 0.4405 - accuracy: 0.7932 - val_loss: 0.7161 - val_accuracy: 0.7220\n",
      "Epoch 49/50\n",
      "78/78 [==============================] - 217s 3s/step - loss: 0.4378 - accuracy: 0.7913 - val_loss: 0.5857 - val_accuracy: 0.7580\n",
      "Epoch 50/50\n",
      "78/78 [==============================] - 247s 3s/step - loss: 0.4355 - accuracy: 0.7927 - val_loss: 0.5518 - val_accuracy: 0.7680\n"
     ]
    },
    {
     "data": {
      "text/plain": [
       "<tensorflow.python.keras.callbacks.History at 0x7f180d09b5b0>"
      ]
     },
     "execution_count": 10,
     "metadata": {},
     "output_type": "execute_result"
    }
   ],
   "source": [
    "\n",
    "model.fit(X_train,np.array(y_train),epochs=50,validation_data=(X_test,np.array(y_test)),batch_size=100,verbose=1)"
   ]
  },
  {
   "cell_type": "code",
   "execution_count": 18,
   "metadata": {},
   "outputs": [
    {
     "name": "stdout",
     "output_type": "stream",
     "text": [
      "INFO:tensorflow:Assets written to: my_model/assets\n"
     ]
    },
    {
     "ename": "OSError",
     "evalue": "Unable to open file (file read failed: time = Sat Aug  8 00:56:00 2020\n, filename = 'my_model', file descriptor = 62, errno = 21, error message = 'Is a directory', buf = 0x7fff08d226e0, total read size = 8, bytes this sub-read = 8, bytes actually read = 18446744073709551615, offset = 0)",
     "output_type": "error",
     "traceback": [
      "\u001b[0;31m---------------------------------------------------------------------------\u001b[0m",
      "\u001b[0;31mOSError\u001b[0m                                   Traceback (most recent call last)",
      "\u001b[0;32m<ipython-input-18-7567e9987f4c>\u001b[0m in \u001b[0;36m<module>\u001b[0;34m\u001b[0m\n\u001b[1;32m      3\u001b[0m \u001b[0;34m\u001b[0m\u001b[0m\n\u001b[1;32m      4\u001b[0m \u001b[0;31m# It can be used to reconstruct the model identically.\u001b[0m\u001b[0;34m\u001b[0m\u001b[0;34m\u001b[0m\u001b[0;34m\u001b[0m\u001b[0m\n\u001b[0;32m----> 5\u001b[0;31m \u001b[0mreconstructed_model\u001b[0m \u001b[0;34m=\u001b[0m \u001b[0mkeras\u001b[0m\u001b[0;34m.\u001b[0m\u001b[0mmodels\u001b[0m\u001b[0;34m.\u001b[0m\u001b[0mload_model\u001b[0m\u001b[0;34m(\u001b[0m\u001b[0;34m\"my_model\"\u001b[0m\u001b[0;34m)\u001b[0m\u001b[0;34m\u001b[0m\u001b[0;34m\u001b[0m\u001b[0m\n\u001b[0m\u001b[1;32m      6\u001b[0m \u001b[0mmodel\u001b[0m\u001b[0;34m.\u001b[0m\u001b[0msave\u001b[0m\u001b[0;34m(\u001b[0m\u001b[0;34m\"./Models/CatsDogModel\"\u001b[0m\u001b[0;34m)\u001b[0m\u001b[0;34m\u001b[0m\u001b[0;34m\u001b[0m\u001b[0m\n\u001b[1;32m      7\u001b[0m \u001b[0mnew_model\u001b[0m \u001b[0;34m=\u001b[0m \u001b[0mkeras\u001b[0m\u001b[0;34m.\u001b[0m\u001b[0mmodels\u001b[0m\u001b[0;34m.\u001b[0m\u001b[0mload_model\u001b[0m\u001b[0;34m(\u001b[0m\u001b[0;34m'./Models/CatsDogModel'\u001b[0m\u001b[0;34m)\u001b[0m\u001b[0;34m\u001b[0m\u001b[0;34m\u001b[0m\u001b[0m\n",
      "\u001b[0;32m~/.local/lib/python3.8/site-packages/keras/engine/saving.py\u001b[0m in \u001b[0;36mload_wrapper\u001b[0;34m(*args, **kwargs)\u001b[0m\n\u001b[1;32m    490\u001b[0m                 \u001b[0mos\u001b[0m\u001b[0;34m.\u001b[0m\u001b[0mremove\u001b[0m\u001b[0;34m(\u001b[0m\u001b[0mtmp_filepath\u001b[0m\u001b[0;34m)\u001b[0m\u001b[0;34m\u001b[0m\u001b[0;34m\u001b[0m\u001b[0m\n\u001b[1;32m    491\u001b[0m             \u001b[0;32mreturn\u001b[0m \u001b[0mres\u001b[0m\u001b[0;34m\u001b[0m\u001b[0;34m\u001b[0m\u001b[0m\n\u001b[0;32m--> 492\u001b[0;31m         \u001b[0;32mreturn\u001b[0m \u001b[0mload_function\u001b[0m\u001b[0;34m(\u001b[0m\u001b[0;34m*\u001b[0m\u001b[0margs\u001b[0m\u001b[0;34m,\u001b[0m \u001b[0;34m**\u001b[0m\u001b[0mkwargs\u001b[0m\u001b[0;34m)\u001b[0m\u001b[0;34m\u001b[0m\u001b[0;34m\u001b[0m\u001b[0m\n\u001b[0m\u001b[1;32m    493\u001b[0m \u001b[0;34m\u001b[0m\u001b[0m\n\u001b[1;32m    494\u001b[0m     \u001b[0;32mreturn\u001b[0m \u001b[0mload_wrapper\u001b[0m\u001b[0;34m\u001b[0m\u001b[0;34m\u001b[0m\u001b[0m\n",
      "\u001b[0;32m~/.local/lib/python3.8/site-packages/keras/engine/saving.py\u001b[0m in \u001b[0;36mload_model\u001b[0;34m(filepath, custom_objects, compile)\u001b[0m\n\u001b[1;32m    581\u001b[0m \u001b[0;34m\u001b[0m\u001b[0m\n\u001b[1;32m    582\u001b[0m     \u001b[0;32mif\u001b[0m \u001b[0mH5Dict\u001b[0m\u001b[0;34m.\u001b[0m\u001b[0mis_supported_type\u001b[0m\u001b[0;34m(\u001b[0m\u001b[0mfilepath\u001b[0m\u001b[0;34m)\u001b[0m\u001b[0;34m:\u001b[0m\u001b[0;34m\u001b[0m\u001b[0;34m\u001b[0m\u001b[0m\n\u001b[0;32m--> 583\u001b[0;31m         \u001b[0;32mwith\u001b[0m \u001b[0mH5Dict\u001b[0m\u001b[0;34m(\u001b[0m\u001b[0mfilepath\u001b[0m\u001b[0;34m,\u001b[0m \u001b[0mmode\u001b[0m\u001b[0;34m=\u001b[0m\u001b[0;34m'r'\u001b[0m\u001b[0;34m)\u001b[0m \u001b[0;32mas\u001b[0m \u001b[0mh5dict\u001b[0m\u001b[0;34m:\u001b[0m\u001b[0;34m\u001b[0m\u001b[0;34m\u001b[0m\u001b[0m\n\u001b[0m\u001b[1;32m    584\u001b[0m             \u001b[0mmodel\u001b[0m \u001b[0;34m=\u001b[0m \u001b[0m_deserialize_model\u001b[0m\u001b[0;34m(\u001b[0m\u001b[0mh5dict\u001b[0m\u001b[0;34m,\u001b[0m \u001b[0mcustom_objects\u001b[0m\u001b[0;34m,\u001b[0m \u001b[0mcompile\u001b[0m\u001b[0;34m)\u001b[0m\u001b[0;34m\u001b[0m\u001b[0;34m\u001b[0m\u001b[0m\n\u001b[1;32m    585\u001b[0m     \u001b[0;32melif\u001b[0m \u001b[0mhasattr\u001b[0m\u001b[0;34m(\u001b[0m\u001b[0mfilepath\u001b[0m\u001b[0;34m,\u001b[0m \u001b[0;34m'write'\u001b[0m\u001b[0;34m)\u001b[0m \u001b[0;32mand\u001b[0m \u001b[0mcallable\u001b[0m\u001b[0;34m(\u001b[0m\u001b[0mfilepath\u001b[0m\u001b[0;34m.\u001b[0m\u001b[0mwrite\u001b[0m\u001b[0;34m)\u001b[0m\u001b[0;34m:\u001b[0m\u001b[0;34m\u001b[0m\u001b[0;34m\u001b[0m\u001b[0m\n",
      "\u001b[0;32m~/.local/lib/python3.8/site-packages/keras/utils/io_utils.py\u001b[0m in \u001b[0;36m__init__\u001b[0;34m(self, path, mode)\u001b[0m\n\u001b[1;32m    189\u001b[0m             \u001b[0mself\u001b[0m\u001b[0;34m.\u001b[0m\u001b[0m_is_file\u001b[0m \u001b[0;34m=\u001b[0m \u001b[0;32mFalse\u001b[0m\u001b[0;34m\u001b[0m\u001b[0;34m\u001b[0m\u001b[0m\n\u001b[1;32m    190\u001b[0m         \u001b[0;32melif\u001b[0m \u001b[0misinstance\u001b[0m\u001b[0;34m(\u001b[0m\u001b[0mpath\u001b[0m\u001b[0;34m,\u001b[0m \u001b[0msix\u001b[0m\u001b[0;34m.\u001b[0m\u001b[0mstring_types\u001b[0m\u001b[0;34m)\u001b[0m \u001b[0;32mor\u001b[0m \u001b[0m_is_path_instance\u001b[0m\u001b[0;34m(\u001b[0m\u001b[0mpath\u001b[0m\u001b[0;34m)\u001b[0m\u001b[0;34m:\u001b[0m\u001b[0;34m\u001b[0m\u001b[0;34m\u001b[0m\u001b[0m\n\u001b[0;32m--> 191\u001b[0;31m             \u001b[0mself\u001b[0m\u001b[0;34m.\u001b[0m\u001b[0mdata\u001b[0m \u001b[0;34m=\u001b[0m \u001b[0mh5py\u001b[0m\u001b[0;34m.\u001b[0m\u001b[0mFile\u001b[0m\u001b[0;34m(\u001b[0m\u001b[0mpath\u001b[0m\u001b[0;34m,\u001b[0m \u001b[0mmode\u001b[0m\u001b[0;34m=\u001b[0m\u001b[0mmode\u001b[0m\u001b[0;34m)\u001b[0m\u001b[0;34m\u001b[0m\u001b[0;34m\u001b[0m\u001b[0m\n\u001b[0m\u001b[1;32m    192\u001b[0m             \u001b[0mself\u001b[0m\u001b[0;34m.\u001b[0m\u001b[0m_is_file\u001b[0m \u001b[0;34m=\u001b[0m \u001b[0;32mTrue\u001b[0m\u001b[0;34m\u001b[0m\u001b[0;34m\u001b[0m\u001b[0m\n\u001b[1;32m    193\u001b[0m         \u001b[0;32melif\u001b[0m \u001b[0misinstance\u001b[0m\u001b[0;34m(\u001b[0m\u001b[0mpath\u001b[0m\u001b[0;34m,\u001b[0m \u001b[0mdict\u001b[0m\u001b[0;34m)\u001b[0m\u001b[0;34m:\u001b[0m\u001b[0;34m\u001b[0m\u001b[0;34m\u001b[0m\u001b[0m\n",
      "\u001b[0;32m~/.local/lib/python3.8/site-packages/h5py/_hl/files.py\u001b[0m in \u001b[0;36m__init__\u001b[0;34m(self, name, mode, driver, libver, userblock_size, swmr, rdcc_nslots, rdcc_nbytes, rdcc_w0, track_order, **kwds)\u001b[0m\n\u001b[1;32m    404\u001b[0m             \u001b[0;32mwith\u001b[0m \u001b[0mphil\u001b[0m\u001b[0;34m:\u001b[0m\u001b[0;34m\u001b[0m\u001b[0;34m\u001b[0m\u001b[0m\n\u001b[1;32m    405\u001b[0m                 \u001b[0mfapl\u001b[0m \u001b[0;34m=\u001b[0m \u001b[0mmake_fapl\u001b[0m\u001b[0;34m(\u001b[0m\u001b[0mdriver\u001b[0m\u001b[0;34m,\u001b[0m \u001b[0mlibver\u001b[0m\u001b[0;34m,\u001b[0m \u001b[0mrdcc_nslots\u001b[0m\u001b[0;34m,\u001b[0m \u001b[0mrdcc_nbytes\u001b[0m\u001b[0;34m,\u001b[0m \u001b[0mrdcc_w0\u001b[0m\u001b[0;34m,\u001b[0m \u001b[0;34m**\u001b[0m\u001b[0mkwds\u001b[0m\u001b[0;34m)\u001b[0m\u001b[0;34m\u001b[0m\u001b[0;34m\u001b[0m\u001b[0m\n\u001b[0;32m--> 406\u001b[0;31m                 fid = make_fid(name, mode, userblock_size,\n\u001b[0m\u001b[1;32m    407\u001b[0m                                \u001b[0mfapl\u001b[0m\u001b[0;34m,\u001b[0m \u001b[0mfcpl\u001b[0m\u001b[0;34m=\u001b[0m\u001b[0mmake_fcpl\u001b[0m\u001b[0;34m(\u001b[0m\u001b[0mtrack_order\u001b[0m\u001b[0;34m=\u001b[0m\u001b[0mtrack_order\u001b[0m\u001b[0;34m)\u001b[0m\u001b[0;34m,\u001b[0m\u001b[0;34m\u001b[0m\u001b[0;34m\u001b[0m\u001b[0m\n\u001b[1;32m    408\u001b[0m                                swmr=swmr)\n",
      "\u001b[0;32m~/.local/lib/python3.8/site-packages/h5py/_hl/files.py\u001b[0m in \u001b[0;36mmake_fid\u001b[0;34m(name, mode, userblock_size, fapl, fcpl, swmr)\u001b[0m\n\u001b[1;32m    171\u001b[0m         \u001b[0;32mif\u001b[0m \u001b[0mswmr\u001b[0m \u001b[0;32mand\u001b[0m \u001b[0mswmr_support\u001b[0m\u001b[0;34m:\u001b[0m\u001b[0;34m\u001b[0m\u001b[0;34m\u001b[0m\u001b[0m\n\u001b[1;32m    172\u001b[0m             \u001b[0mflags\u001b[0m \u001b[0;34m|=\u001b[0m \u001b[0mh5f\u001b[0m\u001b[0;34m.\u001b[0m\u001b[0mACC_SWMR_READ\u001b[0m\u001b[0;34m\u001b[0m\u001b[0;34m\u001b[0m\u001b[0m\n\u001b[0;32m--> 173\u001b[0;31m         \u001b[0mfid\u001b[0m \u001b[0;34m=\u001b[0m \u001b[0mh5f\u001b[0m\u001b[0;34m.\u001b[0m\u001b[0mopen\u001b[0m\u001b[0;34m(\u001b[0m\u001b[0mname\u001b[0m\u001b[0;34m,\u001b[0m \u001b[0mflags\u001b[0m\u001b[0;34m,\u001b[0m \u001b[0mfapl\u001b[0m\u001b[0;34m=\u001b[0m\u001b[0mfapl\u001b[0m\u001b[0;34m)\u001b[0m\u001b[0;34m\u001b[0m\u001b[0;34m\u001b[0m\u001b[0m\n\u001b[0m\u001b[1;32m    174\u001b[0m     \u001b[0;32melif\u001b[0m \u001b[0mmode\u001b[0m \u001b[0;34m==\u001b[0m \u001b[0;34m'r+'\u001b[0m\u001b[0;34m:\u001b[0m\u001b[0;34m\u001b[0m\u001b[0;34m\u001b[0m\u001b[0m\n\u001b[1;32m    175\u001b[0m         \u001b[0mfid\u001b[0m \u001b[0;34m=\u001b[0m \u001b[0mh5f\u001b[0m\u001b[0;34m.\u001b[0m\u001b[0mopen\u001b[0m\u001b[0;34m(\u001b[0m\u001b[0mname\u001b[0m\u001b[0;34m,\u001b[0m \u001b[0mh5f\u001b[0m\u001b[0;34m.\u001b[0m\u001b[0mACC_RDWR\u001b[0m\u001b[0;34m,\u001b[0m \u001b[0mfapl\u001b[0m\u001b[0;34m=\u001b[0m\u001b[0mfapl\u001b[0m\u001b[0;34m)\u001b[0m\u001b[0;34m\u001b[0m\u001b[0;34m\u001b[0m\u001b[0m\n",
      "\u001b[0;32mh5py/_objects.pyx\u001b[0m in \u001b[0;36mh5py._objects.with_phil.wrapper\u001b[0;34m()\u001b[0m\n",
      "\u001b[0;32mh5py/_objects.pyx\u001b[0m in \u001b[0;36mh5py._objects.with_phil.wrapper\u001b[0;34m()\u001b[0m\n",
      "\u001b[0;32mh5py/h5f.pyx\u001b[0m in \u001b[0;36mh5py.h5f.open\u001b[0;34m()\u001b[0m\n",
      "\u001b[0;31mOSError\u001b[0m: Unable to open file (file read failed: time = Sat Aug  8 00:56:00 2020\n, filename = 'my_model', file descriptor = 62, errno = 21, error message = 'Is a directory', buf = 0x7fff08d226e0, total read size = 8, bytes this sub-read = 8, bytes actually read = 18446744073709551615, offset = 0)"
     ]
    }
   ],
   "source": [
    "import keras\n",
    "model.save(\"my_model\")\n",
    "\n",
    "# It can be used to reconstruct the model identically.\n",
    "reconstructed_model = keras.models.load_model(\"my_model\")\n",
    "model.save(\"./Models/CatsDogModel\")\n",
    "new_model = keras.models.load_model('./Models/CatsDogModel')\n",
    "score = model.evaluate(X_test,np.array(y_test))\n",
    "\n"
   ]
  },
  {
   "cell_type": "code",
   "execution_count": null,
   "metadata": {},
   "outputs": [],
   "source": [
    "result = model.predict(X_test)\n",
    "plt.imshow(X_test[200].reshape(IMG_SIZE,IMG_SIZE),cmap=\"gist_gray\")\n",
    "print(result[200])\n",
    "print(y_test[200])"
   ]
  },
  {
   "cell_type": "code",
   "execution_count": null,
   "metadata": {},
   "outputs": [],
   "source": []
  },
  {
   "cell_type": "code",
   "execution_count": null,
   "metadata": {},
   "outputs": [],
   "source": [
    "\n"
   ]
  },
  {
   "cell_type": "code",
   "execution_count": 14,
   "metadata": {},
   "outputs": [
    {
     "ename": "ValueError",
     "evalue": "cannot reshape array of size 12288 into shape (64,64)",
     "output_type": "error",
     "traceback": [
      "\u001b[0;31m---------------------------------------------------------------------------\u001b[0m",
      "\u001b[0;31mValueError\u001b[0m                                Traceback (most recent call last)",
      "\u001b[0;32m<ipython-input-14-1f311105af94>\u001b[0m in \u001b[0;36m<module>\u001b[0;34m\u001b[0m\n\u001b[1;32m      8\u001b[0m     \u001b[0;32melse\u001b[0m\u001b[0;34m:\u001b[0m\u001b[0;34m\u001b[0m\u001b[0;34m\u001b[0m\u001b[0m\n\u001b[1;32m      9\u001b[0m         \u001b[0mlabel\u001b[0m \u001b[0;34m=\u001b[0m \u001b[0;34m'Dog'\u001b[0m\u001b[0;34m\u001b[0m\u001b[0;34m\u001b[0m\u001b[0m\n\u001b[0;32m---> 10\u001b[0;31m     \u001b[0my\u001b[0m\u001b[0;34m.\u001b[0m\u001b[0mimshow\u001b[0m\u001b[0;34m(\u001b[0m\u001b[0mX_test\u001b[0m\u001b[0;34m[\u001b[0m\u001b[0mi\u001b[0m\u001b[0;34m]\u001b[0m\u001b[0;34m.\u001b[0m\u001b[0mreshape\u001b[0m\u001b[0;34m(\u001b[0m\u001b[0mIMG_SIZE\u001b[0m\u001b[0;34m,\u001b[0m\u001b[0mIMG_SIZE\u001b[0m\u001b[0;34m)\u001b[0m\u001b[0;34m)\u001b[0m\u001b[0;34m\u001b[0m\u001b[0;34m\u001b[0m\u001b[0m\n\u001b[0m\u001b[1;32m     11\u001b[0m     \u001b[0mplt\u001b[0m\u001b[0;34m.\u001b[0m\u001b[0mtitle\u001b[0m\u001b[0;34m(\u001b[0m\u001b[0mlabel\u001b[0m\u001b[0;34m)\u001b[0m\u001b[0;34m\u001b[0m\u001b[0;34m\u001b[0m\u001b[0m\n\u001b[1;32m     12\u001b[0m     \u001b[0my\u001b[0m\u001b[0;34m.\u001b[0m\u001b[0maxes\u001b[0m\u001b[0;34m.\u001b[0m\u001b[0mget_xaxis\u001b[0m\u001b[0;34m(\u001b[0m\u001b[0;34m)\u001b[0m\u001b[0;34m.\u001b[0m\u001b[0mset_visible\u001b[0m\u001b[0;34m(\u001b[0m\u001b[0;32mFalse\u001b[0m\u001b[0;34m)\u001b[0m\u001b[0;34m\u001b[0m\u001b[0;34m\u001b[0m\u001b[0m\n",
      "\u001b[0;31mValueError\u001b[0m: cannot reshape array of size 12288 into shape (64,64)"
     ]
    },
    {
     "data": {
      "image/png": "[encoded data removed]",
      "text/plain": [
       "<Figure size 864x864 with 1 Axes>"
      ]
     },
     "metadata": {
      "needs_background": "light"
     },
     "output_type": "display_data"
    }
   ],
   "source": [
    "shuffle(X_test)\n",
    "fig = plt.figure(figsize=(12,12))\n",
    "\n",
    "for i in range(200,210):\n",
    "    y = fig.add_subplot(4,3,i-199)\n",
    "    if np.round(result[i])==0:\n",
    "        label = 'Cat'\n",
    "    else:\n",
    "        label = 'Dog'\n",
    "    y.imshow(X_test[i].reshape(IMG_SIZE,IMG_SIZE))\n",
    "    plt.title(label)\n",
    "    y.axes.get_xaxis().set_visible(False)\n",
    "    y.axes.get_yaxis().set_visible(False)\n",
    "plt.show()"
   ]
  },
  {
   "cell_type": "code",
   "execution_count": null,
   "metadata": {},
   "outputs": [],
   "source": []
  }
 ],
 "metadata": {
  "kernelspec": {
   "display_name": "Python 3",
   "language": "python",
   "name": "python3"
  },
  "language_info": {
   "codemirror_mode": {
    "name": "ipython",
    "version": 3
   },
   "file_extension": ".py",
   "mimetype": "text/x-python",
   "name": "python",
   "nbconvert_exporter": "python",
   "pygments_lexer": "ipython3",
   "version": "3.8.2"
  }
 },
 "nbformat": 4,
 "nbformat_minor": 4
}
