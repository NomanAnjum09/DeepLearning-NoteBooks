{
 "cells": [
  {
   "cell_type": "code",
   "execution_count": 1,
   "metadata": {},
   "outputs": [],
   "source": [
    "import tensorflow as tf\n",
    "#tf.disable_v2_behavior()\n",
    "from sklearn import datasets,metrics,preprocessing\n",
    "boston = datasets.load_boston()"
   ]
  },
  {
   "cell_type": "markdown",
   "metadata": {},
   "source": [
    "### normalizing data"
   ]
  },
  {
   "cell_type": "code",
   "execution_count": 2,
   "metadata": {},
   "outputs": [],
   "source": [
    "#x_data = preprocessing.StandardScaler().fit_transform(boston.data)\n",
    "#y_data = boston.target\n",
    "#NUM_Steps = 200\n",
    "#MINIBATCH_SIZE = 506\n"
   ]
  },
  {
   "cell_type": "markdown",
   "metadata": {},
   "source": [
    "### Create Feature Columns"
   ]
  },
  {
   "cell_type": "code",
   "execution_count": 3,
   "metadata": {},
   "outputs": [],
   "source": [
    "#feature_column = [tf.feature_column.numeric_column(key = key) for key in x_data]\n"
   ]
  },
  {
   "cell_type": "code",
   "execution_count": 4,
   "metadata": {},
   "outputs": [],
   "source": [
    "import pandas as pd\n",
    "import numpy as np\n",
    "import matplotlib.pyplot as plt\n",
    "import tensorflow as tf\n",
    "from sklearn.model_selection import train_test_split"
   ]
  },
  {
   "cell_type": "code",
   "execution_count": 5,
   "metadata": {},
   "outputs": [
    {
     "name": "stdout",
     "output_type": "stream",
     "text": [
      "                 id     scrape_id       host_id  host_listings_count  \\\n",
      "count  3.585000e+03  3.585000e+03  3.585000e+03          3585.000000   \n",
      "mean   8.440875e+06  2.016091e+13  2.492311e+07            58.902371   \n",
      "std    4.500787e+06  0.000000e+00  2.292781e+07           171.119663   \n",
      "min    3.353000e+03  2.016091e+13  4.240000e+03             0.000000   \n",
      "25%    4.679319e+06  2.016091e+13  6.103425e+06             1.000000   \n",
      "50%    8.577620e+06  2.016091e+13  1.928100e+07             2.000000   \n",
      "75%    1.278953e+07  2.016091e+13  3.622147e+07             7.000000   \n",
      "max    1.493346e+07  2.016091e+13  9.385411e+07           749.000000   \n",
      "\n",
      "       host_total_listings_count  neighbourhood_group_cleansed     latitude  \\\n",
      "count                3585.000000                           0.0  3585.000000   \n",
      "mean                   58.902371                           NaN    42.340032   \n",
      "std                   171.119663                           NaN     0.024403   \n",
      "min                     0.000000                           NaN    42.235942   \n",
      "25%                     1.000000                           NaN    42.329995   \n",
      "50%                     2.000000                           NaN    42.345201   \n",
      "75%                     7.000000                           NaN    42.354685   \n",
      "max                   749.000000                           NaN    42.389982   \n",
      "\n",
      "         longitude  accommodates    bathrooms  ...  review_scores_accuracy  \\\n",
      "count  3585.000000   3585.000000  3571.000000  ...             2762.000000   \n",
      "mean    -71.084818      3.041283     1.221647  ...                9.431571   \n",
      "std       0.031565      1.778929     0.501487  ...                0.931863   \n",
      "min     -71.171789      1.000000     0.000000  ...                2.000000   \n",
      "25%     -71.105083      2.000000     1.000000  ...                9.000000   \n",
      "50%     -71.078429      2.000000     1.000000  ...               10.000000   \n",
      "75%     -71.062155      4.000000     1.000000  ...               10.000000   \n",
      "max     -71.000100     16.000000     6.000000  ...               10.000000   \n",
      "\n",
      "       review_scores_cleanliness  review_scores_checkin  \\\n",
      "count                2767.000000            2765.000000   \n",
      "mean                    9.258041               9.646293   \n",
      "std                     1.168977               0.762753   \n",
      "min                     2.000000               2.000000   \n",
      "25%                     9.000000               9.000000   \n",
      "50%                    10.000000              10.000000   \n",
      "75%                    10.000000              10.000000   \n",
      "max                    10.000000              10.000000   \n",
      "\n",
      "       review_scores_communication  review_scores_location  \\\n",
      "count                  2767.000000             2763.000000   \n",
      "mean                      9.646549                9.414043   \n",
      "std                       0.735507                0.903436   \n",
      "min                       4.000000                2.000000   \n",
      "25%                       9.000000                9.000000   \n",
      "50%                      10.000000               10.000000   \n",
      "75%                      10.000000               10.000000   \n",
      "max                      10.000000               10.000000   \n",
      "\n",
      "       review_scores_value  license  jurisdiction_names  \\\n",
      "count          2764.000000      0.0                 0.0   \n",
      "mean              9.168234      NaN                 NaN   \n",
      "std               1.011116      NaN                 NaN   \n",
      "min               2.000000      NaN                 NaN   \n",
      "25%               9.000000      NaN                 NaN   \n",
      "50%               9.000000      NaN                 NaN   \n",
      "75%              10.000000      NaN                 NaN   \n",
      "max              10.000000      NaN                 NaN   \n",
      "\n",
      "       calculated_host_listings_count  reviews_per_month  \n",
      "count                     3585.000000        2829.000000  \n",
      "mean                        12.733891           1.970908  \n",
      "std                         29.415076           2.120561  \n",
      "min                          1.000000           0.010000  \n",
      "25%                          1.000000           0.480000  \n",
      "50%                          2.000000           1.170000  \n",
      "75%                          6.000000           2.720000  \n",
      "max                        136.000000          19.150000  \n",
      "\n",
      "[8 rows x 33 columns]\n"
     ]
    }
   ],
   "source": [
    "data = pd.read_csv('listing.csv')\n",
    "print(data.describe())"
   ]
  },
  {
   "cell_type": "code",
   "execution_count": 6,
   "metadata": {},
   "outputs": [
    {
     "data": {
      "image/png": "[encoded data removed]",
      "text/plain": [
       "<Figure size 1440x1440 with 1 Axes>"
      ]
     },
     "metadata": {
      "needs_background": "light"
     },
     "output_type": "display_data"
    }
   ],
   "source": [
    "f = plt.figure(figsize=(20,20))\n",
    "corr = data.corr()\n",
    "corr.style.background_gradient(cmap='coolwarm').set_precision(2)\n",
    "plt.matshow(corr,fignum=f.number)\n",
    "plt.show()"
   ]
  },
  {
   "cell_type": "code",
   "execution_count": 7,
   "metadata": {},
   "outputs": [
    {
     "name": "stdout",
     "output_type": "stream",
     "text": [
      "         id                            listing_url       scrape_id  \\\n",
      "0  12147973  https://www.airbnb.com/rooms/12147973  20160906204935   \n",
      "1   3075044   https://www.airbnb.com/rooms/3075044  20160906204935   \n",
      "2      6976      https://www.airbnb.com/rooms/6976  20160906204935   \n",
      "3   1436513   https://www.airbnb.com/rooms/1436513  20160906204935   \n",
      "4   7651065   https://www.airbnb.com/rooms/7651065  20160906204935   \n",
      "5  12386020  https://www.airbnb.com/rooms/12386020  20160906204935   \n",
      "6   5706985   https://www.airbnb.com/rooms/5706985  20160906204935   \n",
      "\n",
      "  last_scraped                                           name  \\\n",
      "0   2016-09-07                     Sunny Bungalow in the City   \n",
      "1   2016-09-07              Charming room in pet friendly apt   \n",
      "2   2016-09-07               Mexican Folk Art Haven in Boston   \n",
      "3   2016-09-07  Spacious Sunny Bedroom Suite in Historic Home   \n",
      "4   2016-09-07                            Come Home to Boston   \n",
      "5   2016-09-07                 Private Bedroom + Great Coffee   \n",
      "6   2016-09-07            New Lrg Studio apt 15 min to Boston   \n",
      "\n",
      "                                             summary  \\\n",
      "0  Cozy, sunny, family home.  Master bedroom high...   \n",
      "1  Charming and quiet room in a second floor 1910...   \n",
      "2  Come stay with a friendly, middle-aged guy in ...   \n",
      "3  Come experience the comforts of home away from...   \n",
      "4  My comfy, clean and relaxing home is one block...   \n",
      "5  Super comfy bedroom plus your own bathroom in ...   \n",
      "6  It's a 5 minute walk to Rosi Square to catch t...   \n",
      "\n",
      "                                               space  \\\n",
      "0  The house has an open and cozy feel at the sam...   \n",
      "1  Small but cozy and quite room with a full size...   \n",
      "2  Come stay with a friendly, middle-aged guy in ...   \n",
      "3  Most places you find in Boston are small howev...   \n",
      "4  Clean, attractive, private room, one block fro...   \n",
      "5  Our sunny condo is located on the second and t...   \n",
      "6  The whole house was recently redone and it 's ...   \n",
      "\n",
      "                                         description experiences_offered  \\\n",
      "0  Cozy, sunny, family home.  Master bedroom high...                none   \n",
      "1  Charming and quiet room in a second floor 1910...                none   \n",
      "2  Come stay with a friendly, middle-aged guy in ...                none   \n",
      "3  Come experience the comforts of home away from...                none   \n",
      "4  My comfy, clean and relaxing home is one block...                none   \n",
      "5  Super comfy bedroom plus your own bathroom in ...                none   \n",
      "6  It's a 5 minute walk to Rosi Square to catch t...                none   \n",
      "\n",
      "                               neighborhood_overview  ... review_scores_value  \\\n",
      "0  Roslindale is quiet, convenient and friendly. ...  ...                 NaN   \n",
      "1  The room is in Roslindale, a diverse and prima...  ...                 9.0   \n",
      "2  The LOCATION: Roslindale is a safe and diverse...  ...                10.0   \n",
      "3  Roslindale is a lovely little neighborhood loc...  ...                10.0   \n",
      "4  I love the proximity to downtown, the neighbor...  ...                10.0   \n",
      "5  We love our corner of Roslindale! For quiet wa...  ...                10.0   \n",
      "6  Roslindale is the new hip area of Boston. Clos...  ...                 9.0   \n",
      "\n",
      "  requires_license license jurisdiction_names instant_bookable  \\\n",
      "0                f     NaN                NaN                f   \n",
      "1                f     NaN                NaN                t   \n",
      "2                f     NaN                NaN                f   \n",
      "3                f     NaN                NaN                f   \n",
      "4                f     NaN                NaN                f   \n",
      "5                f     NaN                NaN                f   \n",
      "6                f     NaN                NaN                f   \n",
      "\n",
      "  cancellation_policy require_guest_profile_picture  \\\n",
      "0            moderate                             f   \n",
      "1            moderate                             f   \n",
      "2            moderate                             t   \n",
      "3            moderate                             f   \n",
      "4            flexible                             f   \n",
      "5            flexible                             f   \n",
      "6              strict                             f   \n",
      "\n",
      "  require_guest_phone_verification calculated_host_listings_count  \\\n",
      "0                                f                              1   \n",
      "1                                f                              1   \n",
      "2                                f                              1   \n",
      "3                                f                              1   \n",
      "4                                f                              1   \n",
      "5                                f                              1   \n",
      "6                                f                              3   \n",
      "\n",
      "   reviews_per_month  \n",
      "0                NaN  \n",
      "1               1.30  \n",
      "2               0.47  \n",
      "3               1.00  \n",
      "4               2.25  \n",
      "5               1.70  \n",
      "6               4.00  \n",
      "\n",
      "[7 rows x 95 columns]\n"
     ]
    }
   ],
   "source": [
    "print(data.head(7))"
   ]
  },
  {
   "cell_type": "code",
   "execution_count": 8,
   "metadata": {},
   "outputs": [
    {
     "name": "stdout",
     "output_type": "stream",
     "text": [
      "Index(['summary', 'space', 'neighborhood_overview', 'notes', 'transit',\n",
      "       'access', 'interaction', 'house_rules', 'thumbnail_url', 'medium_url',\n",
      "       'xl_picture_url', 'host_location', 'host_about', 'host_response_time',\n",
      "       'host_response_rate', 'host_acceptance_rate', 'host_neighbourhood',\n",
      "       'neighbourhood', 'neighbourhood_group_cleansed', 'city', 'zipcode',\n",
      "       'market', 'property_type', 'bathrooms', 'bedrooms', 'beds',\n",
      "       'square_feet', 'weekly_price', 'monthly_price', 'security_deposit',\n",
      "       'cleaning_fee', 'has_availability', 'first_review', 'last_review',\n",
      "       'review_scores_rating', 'review_scores_accuracy',\n",
      "       'review_scores_cleanliness', 'review_scores_checkin',\n",
      "       'review_scores_communication', 'review_scores_location',\n",
      "       'review_scores_value', 'license', 'jurisdiction_names',\n",
      "       'reviews_per_month'],\n",
      "      dtype='object')\n"
     ]
    }
   ],
   "source": [
    "print(data.columns[data.isna().sum()>0])"
   ]
  },
  {
   "cell_type": "code",
   "execution_count": 9,
   "metadata": {},
   "outputs": [],
   "source": [
    "for feature in [\"cleaning_fee\",'security_deposit','price']:\n",
    "    data[feature] = data[feature].map(lambda x:x.replace('$','').replace(',',''),na_action='ignore')\n",
    "    data[feature] = data[feature].astype(float)\n",
    "    data[feature].fillna(data[feature].median(),inplace = True)"
   ]
  },
  {
   "cell_type": "code",
   "execution_count": 10,
   "metadata": {},
   "outputs": [],
   "source": [
    "for feature in ['bathrooms','bedrooms','beds','review_scores_value']:\n",
    "    data[feature].fillna('Apartment',inplace=True)\n",
    "\n",
    "data['property_type'].fillna('Apartment',inplace=True)"
   ]
  },
  {
   "cell_type": "code",
   "execution_count": 11,
   "metadata": {},
   "outputs": [
    {
     "data": {
      "text/plain": [
       "(3585, 95)"
      ]
     },
     "execution_count": 11,
     "metadata": {},
     "output_type": "execute_result"
    }
   ],
   "source": [
    "data.shape"
   ]
  },
  {
   "cell_type": "code",
   "execution_count": 15,
   "metadata": {},
   "outputs": [],
   "source": [
    "X = data.drop('price',axis=1)\n",
    "Y = data['price']\n",
    "x_train,x_test,y_train,y_test = train_test_split(X,Y,test_size=0.3)"
   ]
  },
  {
   "cell_type": "code",
   "execution_count": 19,
   "metadata": {},
   "outputs": [
    {
     "name": "stdout",
     "output_type": "stream",
     "text": [
      "Index(['id', 'scrape_id', 'host_id', 'host_listings_count',\n",
      "       'host_total_listings_count', 'neighbourhood_group_cleansed', 'latitude',\n",
      "       'longitude', 'accommodates', 'square_feet', 'price', 'security_deposit',\n",
      "       'cleaning_fee', 'guests_included', 'minimum_nights', 'maximum_nights',\n",
      "       'has_availability', 'availability_30', 'availability_60',\n",
      "       'availability_90', 'availability_365', 'number_of_reviews',\n",
      "       'review_scores_rating', 'review_scores_accuracy',\n",
      "       'review_scores_cleanliness', 'review_scores_checkin',\n",
      "       'review_scores_communication', 'review_scores_location', 'license',\n",
      "       'jurisdiction_names', 'calculated_host_listings_count',\n",
      "       'reviews_per_month'],\n",
      "      dtype='object')\n"
     ]
    }
   ],
   "source": [
    "numeric_cols = data._get_numeric_data().columns\n",
    "print(numeric_cols)"
   ]
  },
  {
   "cell_type": "code",
   "execution_count": 20,
   "metadata": {},
   "outputs": [],
   "source": [
    " categorical_cols = [c for c in data.columns if c not in numeric_cols]"
   ]
  },
  {
   "cell_type": "code",
   "execution_count": 21,
   "metadata": {},
   "outputs": [
    {
     "name": "stdout",
     "output_type": "stream",
     "text": [
      "['listing_url', 'last_scraped', 'name', 'summary', 'space', 'description', 'experiences_offered', 'neighborhood_overview', 'notes', 'transit', 'access', 'interaction', 'house_rules', 'thumbnail_url', 'medium_url', 'picture_url', 'xl_picture_url', 'host_url', 'host_name', 'host_since', 'host_location', 'host_about', 'host_response_time', 'host_response_rate', 'host_acceptance_rate', 'host_is_superhost', 'host_thumbnail_url', 'host_picture_url', 'host_neighbourhood', 'host_verifications', 'host_has_profile_pic', 'host_identity_verified', 'street', 'neighbourhood', 'neighbourhood_cleansed', 'city', 'state', 'zipcode', 'market', 'smart_location', 'country_code', 'country', 'is_location_exact', 'property_type', 'room_type', 'bathrooms', 'bedrooms', 'beds', 'bed_type', 'amenities', 'weekly_price', 'monthly_price', 'extra_people', 'calendar_updated', 'calendar_last_scraped', 'first_review', 'last_review', 'review_scores_value', 'requires_license', 'instant_bookable', 'cancellation_policy', 'require_guest_profile_picture', 'require_guest_phone_verification']\n"
     ]
    }
   ],
   "source": [
    "print(categorical_cols)"
   ]
  },
  {
   "cell_type": "code",
   "execution_count": 23,
   "metadata": {},
   "outputs": [],
   "source": [
    "numeric_features = [tf.feature_column.numeric_column(key=column) for column in numeric_cols]"
   ]
  },
  {
   "cell_type": "code",
   "execution_count": 25,
   "metadata": {},
   "outputs": [
    {
     "name": "stdout",
     "output_type": "stream",
     "text": [
      "[NumericColumn(key='id', shape=(1,), default_value=None, dtype=tf.float32, normalizer_fn=None), NumericColumn(key='scrape_id', shape=(1,), default_value=None, dtype=tf.float32, normalizer_fn=None), NumericColumn(key='host_id', shape=(1,), default_value=None, dtype=tf.float32, normalizer_fn=None), NumericColumn(key='host_listings_count', shape=(1,), default_value=None, dtype=tf.float32, normalizer_fn=None), NumericColumn(key='host_total_listings_count', shape=(1,), default_value=None, dtype=tf.float32, normalizer_fn=None), NumericColumn(key='neighbourhood_group_cleansed', shape=(1,), default_value=None, dtype=tf.float32, normalizer_fn=None), NumericColumn(key='latitude', shape=(1,), default_value=None, dtype=tf.float32, normalizer_fn=None), NumericColumn(key='longitude', shape=(1,), default_value=None, dtype=tf.float32, normalizer_fn=None), NumericColumn(key='accommodates', shape=(1,), default_value=None, dtype=tf.float32, normalizer_fn=None), NumericColumn(key='square_feet', shape=(1,), default_value=None, dtype=tf.float32, normalizer_fn=None), NumericColumn(key='price', shape=(1,), default_value=None, dtype=tf.float32, normalizer_fn=None), NumericColumn(key='security_deposit', shape=(1,), default_value=None, dtype=tf.float32, normalizer_fn=None), NumericColumn(key='cleaning_fee', shape=(1,), default_value=None, dtype=tf.float32, normalizer_fn=None), NumericColumn(key='guests_included', shape=(1,), default_value=None, dtype=tf.float32, normalizer_fn=None), NumericColumn(key='minimum_nights', shape=(1,), default_value=None, dtype=tf.float32, normalizer_fn=None), NumericColumn(key='maximum_nights', shape=(1,), default_value=None, dtype=tf.float32, normalizer_fn=None), NumericColumn(key='has_availability', shape=(1,), default_value=None, dtype=tf.float32, normalizer_fn=None), NumericColumn(key='availability_30', shape=(1,), default_value=None, dtype=tf.float32, normalizer_fn=None), NumericColumn(key='availability_60', shape=(1,), default_value=None, dtype=tf.float32, normalizer_fn=None), NumericColumn(key='availability_90', shape=(1,), default_value=None, dtype=tf.float32, normalizer_fn=None), NumericColumn(key='availability_365', shape=(1,), default_value=None, dtype=tf.float32, normalizer_fn=None), NumericColumn(key='number_of_reviews', shape=(1,), default_value=None, dtype=tf.float32, normalizer_fn=None), NumericColumn(key='review_scores_rating', shape=(1,), default_value=None, dtype=tf.float32, normalizer_fn=None), NumericColumn(key='review_scores_accuracy', shape=(1,), default_value=None, dtype=tf.float32, normalizer_fn=None), NumericColumn(key='review_scores_cleanliness', shape=(1,), default_value=None, dtype=tf.float32, normalizer_fn=None), NumericColumn(key='review_scores_checkin', shape=(1,), default_value=None, dtype=tf.float32, normalizer_fn=None), NumericColumn(key='review_scores_communication', shape=(1,), default_value=None, dtype=tf.float32, normalizer_fn=None), NumericColumn(key='review_scores_location', shape=(1,), default_value=None, dtype=tf.float32, normalizer_fn=None), NumericColumn(key='license', shape=(1,), default_value=None, dtype=tf.float32, normalizer_fn=None), NumericColumn(key='jurisdiction_names', shape=(1,), default_value=None, dtype=tf.float32, normalizer_fn=None), NumericColumn(key='calculated_host_listings_count', shape=(1,), default_value=None, dtype=tf.float32, normalizer_fn=None), NumericColumn(key='reviews_per_month', shape=(1,), default_value=None, dtype=tf.float32, normalizer_fn=None)]\n"
     ]
    }
   ],
   "source": [
    "categorical_features = [tf.feature_column.categorical_column_with_vocabulary_list(key = column, vocabulary_list= feature[column].unique)]"
   ]
  },
  {
   "cell_type": "code",
   "execution_count": null,
   "metadata": {},
   "outputs": [],
   "source": []
  }
 ],
 "metadata": {
  "kernelspec": {
   "display_name": "Python 3",
   "language": "python",
   "name": "python3"
  },
  "language_info": {
   "codemirror_mode": {
    "name": "ipython",
    "version": 3
   },
   "file_extension": ".py",
   "mimetype": "text/x-python",
   "name": "python",
   "nbconvert_exporter": "python",
   "pygments_lexer": "ipython3",
   "version": "3.8.2"
  }
 },
 "nbformat": 4,
 "nbformat_minor": 4
}
