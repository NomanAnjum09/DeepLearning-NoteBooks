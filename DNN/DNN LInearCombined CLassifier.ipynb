{
 "cells": [
  {
   "cell_type": "code",
   "execution_count": 1,
   "metadata": {},
   "outputs": [],
   "source": [
    "import time \n",
    "import numpy as np\n",
    "import tensorflow as tf\n",
    "import pandas as pd\n"
   ]
  },
  {
   "cell_type": "code",
   "execution_count": 7,
   "metadata": {},
   "outputs": [],
   "source": [
    "categorical_columns = ['workclass','education',\n",
    "                      'marital.status','occupation',\n",
    "                      'relationship','race','gender',\n",
    "                      'native-country']\n",
    "\n",
    "# Columns of input csv\n",
    "\n",
    "columns = ['age','workclass','fnlwgt','education',\n",
    "          'educational-num','marital-status','occupation',\n",
    "          'relationship','race','gender','capital-gain','capital-loss',\n",
    "          'hours-per-week','native-country','income']\n",
    "\n",
    "feature_column = ['age','workclass','fnlwgt','education',\n",
    "          'educational-num','marital-status','occupation',\n",
    "          'relationship','race','gender','capital-gain','capital-loss',\n",
    "          'hours-per-week','native-country']"
   ]
  },
  {
   "cell_type": "code",
   "execution_count": 8,
   "metadata": {},
   "outputs": [
    {
     "data": {
      "text/plain": [
       "Index(['age', 'workclass', 'fnlwgt', 'education', 'educational-num',\n",
       "       'marital-status', 'occupation', 'relationship', 'race', 'gender',\n",
       "       'capital-gain', 'capital-loss', 'hours-per-week', 'native-country',\n",
       "       'income'],\n",
       "      dtype='object')"
      ]
     },
     "execution_count": 8,
     "metadata": {},
     "output_type": "execute_result"
    }
   ],
   "source": [
    "df = pd.read_csv('adult.csv')\n",
    "df.head()\n",
    "df.columns"
   ]
  },
  {
   "cell_type": "code",
   "execution_count": 9,
   "metadata": {},
   "outputs": [
    {
     "name": "stdout",
     "output_type": "stream",
     "text": [
      "(48842,)\n"
     ]
    }
   ],
   "source": [
    "from sklearn.model_selection import train_test_split\n",
    "batch_size = 40\n",
    "num_epochs = 1\n",
    "shuffle = True\n",
    "print(df['income'].shape)\n",
    "y= df['income'].apply(lambda x: \">50K\" in x).astype(int) #binary response variable\n",
    "\n",
    "del df['fnlwgt']\n",
    "del df['income']\n",
    "X=df\n",
    "X_train,X_test,y_train,y_test = train_test_split(X,y,test_size=0.2)"
   ]
  },
  {
   "cell_type": "code",
   "execution_count": 10,
   "metadata": {},
   "outputs": [],
   "source": [
    "train_input_fn = tf.compat.v1.estimator.inputs.pandas_input_fn(x=X_train,\n",
    "                                                              y=y_train,\n",
    "                                                              batch_size=batch_size,\n",
    "                                                              num_epochs=num_epochs,\n",
    "                                                              shuffle=shuffle)\n",
    "\n",
    "test_input_fn = tf.compat.v1.estimator.inputs.pandas_input_fn(x=X_test,\n",
    "                                                              y=y_test,\n",
    "                                                              batch_size=batch_size,\n",
    "                                                              num_epochs=num_epochs,\n",
    "                                                              shuffle=shuffle)"
   ]
  },
  {
   "cell_type": "code",
   "execution_count": 11,
   "metadata": {},
   "outputs": [],
   "source": [
    "def generate_input_fn(filename,num_epochs=None,shuffle=True,batch_size=batch_size):\n",
    "    df = pd.read_csv(filename)\n",
    "    labels = df['income'].apply(lambda x: \">50K\" in x).astype(int)\n",
    "    del df['fnlwgt']\n",
    "    del df['income']\n",
    "    type(df['age'].iloc[3])\n",
    "    \n",
    "    return tf.compat.v1.estimator.inputs.pandas_input_fn(\n",
    "    x=df,\n",
    "    y=labels,\n",
    "    batch_size=batch_size,\n",
    "    num_epochs=num_epochs,\n",
    "    shuffle=shuffle)"
   ]
  },
  {
   "cell_type": "code",
   "execution_count": 63,
   "metadata": {},
   "outputs": [],
   "source": [
    "#Creating the feature columns"
   ]
  },
  {
   "cell_type": "code",
   "execution_count": 12,
   "metadata": {},
   "outputs": [],
   "source": [
    "gender = tf.feature_column.categorical_column_with_vocabulary_list(key=\"gender\",\n",
    "                                                               vocabulary_list=['female','male'])\n",
    "race = tf.feature_column.categorical_column_with_vocabulary_list(key=\"race\",\n",
    "                                                                vocabulary_list=['Amer-Indian-Eskimo',\n",
    "                                                                                'Asian-Pac-Islander',\n",
    "                                                                                'Black','Other','White'])\n",
    "\n",
    "education = tf.feature_column.categorical_column_with_hash_bucket('education',hash_bucket_size=1000)\n",
    "marital_status = tf.feature_column.categorical_column_with_hash_bucket('marital-status',hash_bucket_size=100)\n",
    "relationship = tf.feature_column.categorical_column_with_hash_bucket('relationship',hash_bucket_size=100)\n",
    "work_class = tf.feature_column.categorical_column_with_hash_bucket('workclass',hash_bucket_size=100)\n",
    "occupation = tf.feature_column.categorical_column_with_hash_bucket('occupation',hash_bucket_size=1000)\n",
    "native_country = tf.feature_column.categorical_column_with_hash_bucket('native-country',hash_bucket_size=1000)"
   ]
  },
  {
   "cell_type": "code",
   "execution_count": 13,
   "metadata": {},
   "outputs": [],
   "source": [
    "age = tf.feature_column.numeric_column('age')\n",
    "education_num = tf.feature_column.numeric_column('educational-num')\n",
    "capital_gain = tf.feature_column.numeric_column('capital-gain')\n",
    "capital_loss = tf.feature_column.numeric_column('capital-loss')\n",
    "hours_per_week = tf.feature_column.numeric_column('hours-per-week')"
   ]
  },
  {
   "cell_type": "code",
   "execution_count": 66,
   "metadata": {},
   "outputs": [],
   "source": [
    "# The Wide columns are the sparse , categorical columns that we specified as well our hashed bicket feature"
   ]
  },
  {
   "cell_type": "code",
   "execution_count": 14,
   "metadata": {},
   "outputs": [],
   "source": [
    "wide_columns = [gender,race,native_country,education,occupation,work_class,marital_status,relationship]"
   ]
  },
  {
   "cell_type": "code",
   "execution_count": 16,
   "metadata": {},
   "outputs": [],
   "source": [
    "deep_columns = [\n",
    "    #Multi -hot indicator column for column with fewer possibilities \n",
    "    tf.feature_column.indicator_column(work_class),\n",
    "    tf.feature_column.indicator_column(marital_status),\n",
    "    tf.feature_column.indicator_column(gender),\n",
    "    tf.feature_column.indicator_column(relationship),\n",
    "    tf.feature_column.indicator_column(race),\n",
    "    # Embeding for categories with more possibilites,\n",
    "    # should have atleast (possibilty)*0.25 dimension\n",
    "    tf.feature_column.embedding_column(education,dimension=8),\n",
    "    tf.feature_column.embedding_column(native_country,dimension=8),\n",
    "    tf.feature_column.embedding_column(occupation,dimension=8),\n",
    "    #numerical column\n",
    "    age,\n",
    "    education_num,\n",
    "    capital_gain,\n",
    "    capital_loss,\n",
    "    hours_per_week,\n",
    "    \n",
    "\n",
    "\n",
    "\n",
    "\n",
    "]"
   ]
  },
  {
   "cell_type": "markdown",
   "metadata": {},
   "source": [
    "### Wide : Linear CLassifier\n",
    "### Deep : Deep Neural Classifier\n",
    "### Wide and Deep : Combined Hybrid\n"
   ]
  },
  {
   "cell_type": "code",
   "execution_count": 18,
   "metadata": {},
   "outputs": [],
   "source": [
    "def create_model_dir(model_type):\n",
    "    return \"model/model_\" + model_type + \"_\" + str(int(time.time()))\n",
    "\n",
    "# if new model is false pass in the desired model_dir\n",
    "\n",
    "def get_model(model_type,wide_columns = None, deep_columns = None, new_model = False , model_dir=None):\n",
    "    if new_model or model_dir is None:\n",
    "        model_dir = create_model_dir(model_type) # Comment this line to traine existing model\n",
    "    print('Model Directory {}'.format(model_dir))\n",
    "    \n",
    "    m= None\n",
    "    #Linear Classifier\n",
    "    if model_type == 'WIDE':\n",
    "        m=tf.estimator.LinearClassifier(\n",
    "        model_dir=model_dir,\n",
    "        feature_columns = wide_columns)\n",
    "    \n",
    "    if model_type == 'DEEP':\n",
    "        m=tf.estimator.DNNClassifier(\n",
    "        model_dir=model_dir,\n",
    "        feature_columns=deep_columns,\n",
    "        hidden_units=[100,50])\n",
    "    \n",
    "    #Combine\n",
    "    \n",
    "    if model_type==\"WIDE_AND_DEEP\":\n",
    "        m = tf.estimator.DNNLinearCombinedClassifier(\n",
    "        model_dir=model_dir,\n",
    "        linear_feature_columns = wide_columns,\n",
    "        dnn_feature_columns = deep_columns,\n",
    "        dnn_hidden_units = [100,70,50,25])\n",
    "    print(\"Estimator Generated\")\n",
    "    return m,model_dir"
   ]
  },
  {
   "cell_type": "code",
   "execution_count": 33,
   "metadata": {},
   "outputs": [
    {
     "name": "stdout",
     "output_type": "stream",
     "text": [
      "Model Directory model/model_WIDE_1595182148\n",
      "INFO:tensorflow:Using default config.\n",
      "INFO:tensorflow:Using config: {'_model_dir': 'model/model_WIDE_1595182148', '_tf_random_seed': None, '_save_summary_steps': 100, '_save_checkpoints_steps': None, '_save_checkpoints_secs': 600, '_session_config': allow_soft_placement: true\n",
      "graph_options {\n",
      "  rewrite_options {\n",
      "    meta_optimizer_iterations: ONE\n",
      "  }\n",
      "}\n",
      ", '_keep_checkpoint_max': 5, '_keep_checkpoint_every_n_hours': 10000, '_log_step_count_steps': 100, '_train_distribute': None, '_device_fn': None, '_protocol': None, '_eval_distribute': None, '_experimental_distribute': None, '_experimental_max_worker_delay_secs': None, '_session_creation_timeout_secs': 7200, '_service': None, '_cluster_spec': ClusterSpec({}), '_task_type': 'worker', '_task_id': 0, '_global_id_in_cluster': 0, '_master': '', '_evaluation_master': '', '_is_chief': True, '_num_ps_replicas': 0, '_num_worker_replicas': 1}\n",
      "Estimator Generated\n"
     ]
    }
   ],
   "source": [
    "MODEL_TYPE = 'WIDE'\n",
    "model_dir = create_model_dir(MODEL_TYPE)\n",
    "m,model_dir = get_model(MODEL_TYPE,wide_columns,deep_columns,model_dir)"
   ]
  },
  {
   "cell_type": "code",
   "execution_count": 34,
   "metadata": {
    "scrolled": true
   },
   "outputs": [
    {
     "name": "stdout",
     "output_type": "stream",
     "text": [
      "INFO:tensorflow:Calling model_fn.\n",
      "INFO:tensorflow:Done calling model_fn.\n",
      "INFO:tensorflow:Create CheckpointSaverHook.\n",
      "INFO:tensorflow:Graph was finalized.\n",
      "INFO:tensorflow:Running local_init_op.\n",
      "INFO:tensorflow:Done running local_init_op.\n",
      "INFO:tensorflow:Calling checkpoint listeners before saving checkpoint 0...\n",
      "INFO:tensorflow:Saving checkpoints for 0 into model/model_WIDE_1595182148/model.ckpt.\n",
      "INFO:tensorflow:Calling checkpoint listeners after saving checkpoint 0...\n",
      "INFO:tensorflow:loss = 0.6931472, step = 0\n",
      "INFO:tensorflow:global_step/sec: 189.839\n",
      "INFO:tensorflow:loss = 0.3775067, step = 100 (0.528 sec)\n",
      "INFO:tensorflow:global_step/sec: 330.704\n",
      "INFO:tensorflow:loss = 0.45498672, step = 200 (0.302 sec)\n",
      "INFO:tensorflow:global_step/sec: 318.537\n",
      "INFO:tensorflow:loss = 0.44410878, step = 300 (0.314 sec)\n",
      "INFO:tensorflow:global_step/sec: 315.76\n",
      "INFO:tensorflow:loss = 0.3379423, step = 400 (0.317 sec)\n",
      "INFO:tensorflow:global_step/sec: 348.237\n",
      "INFO:tensorflow:loss = 0.31566912, step = 500 (0.289 sec)\n",
      "INFO:tensorflow:global_step/sec: 304.327\n",
      "INFO:tensorflow:loss = 0.33120862, step = 600 (0.326 sec)\n",
      "INFO:tensorflow:global_step/sec: 326.097\n",
      "INFO:tensorflow:loss = 0.23068413, step = 700 (0.308 sec)\n",
      "INFO:tensorflow:global_step/sec: 340.96\n",
      "INFO:tensorflow:loss = 0.52087426, step = 800 (0.295 sec)\n",
      "INFO:tensorflow:global_step/sec: 326.541\n",
      "INFO:tensorflow:loss = 0.38785687, step = 900 (0.304 sec)\n",
      "INFO:tensorflow:Calling checkpoint listeners before saving checkpoint 977...\n",
      "INFO:tensorflow:Saving checkpoints for 977 into model/model_WIDE_1595182148/model.ckpt.\n",
      "INFO:tensorflow:Calling checkpoint listeners after saving checkpoint 977...\n",
      "INFO:tensorflow:Loss for final step: 0.32943195.\n"
     ]
    },
    {
     "data": {
      "text/plain": [
       "<tensorflow_estimator.python.estimator.canned.linear.LinearClassifierV2 at 0x7f96a2e1ab20>"
      ]
     },
     "execution_count": 34,
     "metadata": {},
     "output_type": "execute_result"
    }
   ],
   "source": [
    "m.train(input_fn=train_input_fn)"
   ]
  },
  {
   "cell_type": "code",
   "execution_count": 35,
   "metadata": {},
   "outputs": [
    {
     "name": "stdout",
     "output_type": "stream",
     "text": [
      "INFO:tensorflow:Calling model_fn.\n",
      "INFO:tensorflow:Done calling model_fn.\n",
      "INFO:tensorflow:Starting evaluation at 2020-07-19T23:09:15Z\n",
      "INFO:tensorflow:Graph was finalized.\n",
      "INFO:tensorflow:Restoring parameters from model/model_WIDE_1595182148/model.ckpt-977\n",
      "INFO:tensorflow:Running local_init_op.\n",
      "INFO:tensorflow:Done running local_init_op.\n",
      "INFO:tensorflow:Inference Time : 1.54482s\n",
      "INFO:tensorflow:Finished evaluation at 2020-07-19-23:09:17\n",
      "INFO:tensorflow:Saving dict for global step 977: accuracy = 0.82731086, accuracy_baseline = 0.75882894, auc = 0.8666224, auc_precision_recall = 0.6771954, average_loss = 0.37474066, global_step = 977, label/mean = 0.24117105, loss = 0.37516317, precision = 0.68511343, prediction/mean = 0.24452089, recall = 0.5254669\n",
      "INFO:tensorflow:Saving 'checkpoint_path' summary for global step 977: model/model_WIDE_1595182148/model.ckpt-977\n",
      "Accuracy = 0.8273108601570129\n"
     ]
    }
   ],
   "source": [
    "result = m.evaluate(input_fn=test_input_fn)\n",
    "print(\"Accuracy = {}\".format(result['accuracy']))"
   ]
  },
  {
   "cell_type": "code",
   "execution_count": null,
   "metadata": {},
   "outputs": [],
   "source": []
  },
  {
   "cell_type": "code",
   "execution_count": null,
   "metadata": {},
   "outputs": [],
   "source": []
  }
 ],
 "metadata": {
  "kernelspec": {
   "display_name": "Python 3",
   "language": "python",
   "name": "python3"
  },
  "language_info": {
   "codemirror_mode": {
    "name": "ipython",
    "version": 3
   },
   "file_extension": ".py",
   "mimetype": "text/x-python",
   "name": "python",
   "nbconvert_exporter": "python",
   "pygments_lexer": "ipython3",
   "version": "3.8.2"
  }
 },
 "nbformat": 4,
 "nbformat_minor": 4
}
