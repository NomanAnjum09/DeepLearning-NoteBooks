{
 "cells": [
  {
   "cell_type": "code",
   "execution_count": 1,
   "metadata": {},
   "outputs": [
    {
     "name": "stderr",
     "output_type": "stream",
     "text": [
      "Using TensorFlow backend.\n"
     ]
    }
   ],
   "source": [
    "import pandas as pd\n",
    "import numpy as np\n",
    "import tensorflow as tf\n",
    "from sklearn.model_selection import train_test_split\n",
    "from keras.layers import Dense,Dropout\n",
    "from keras.models import Sequential"
   ]
  },
  {
   "cell_type": "code",
   "execution_count": 2,
   "metadata": {},
   "outputs": [
    {
     "name": "stdout",
     "output_type": "stream",
     "text": [
      "   0    1   2   3    4     5      6   7  8\n",
      "0  6  148  72  35    0  33.6  0.627  50  1\n",
      "1  1   85  66  29    0  26.6  0.351  31  0\n",
      "2  8  183  64   0    0  23.3  0.672  32  1\n",
      "3  1   89  66  23   94  28.1  0.167  21  0\n",
      "4  0  137  40  35  168  43.1  2.288  33  1\n"
     ]
    }
   ],
   "source": [
    "df = pd.read_csv(\"diabetes.csv\",header=None)\n",
    "print(df.head())"
   ]
  },
  {
   "cell_type": "code",
   "execution_count": 3,
   "metadata": {},
   "outputs": [
    {
     "name": "stdout",
     "output_type": "stream",
     "text": [
      "0       6\n",
      "1       1\n",
      "2       8\n",
      "3       1\n",
      "4       0\n",
      "       ..\n",
      "763    10\n",
      "764     2\n",
      "765     5\n",
      "766     1\n",
      "767     1\n",
      "Name: 0, Length: 768, dtype: int64\n"
     ]
    }
   ],
   "source": [
    "x = df.loc[:,0:7]\n",
    "y=df.loc[:,8]\n",
    "print(x[0])"
   ]
  },
  {
   "cell_type": "code",
   "execution_count": 4,
   "metadata": {},
   "outputs": [],
   "source": [
    "X_train,_test,y_train,y_test = train_test_split(x,y,train_size=0.75,random_state=1)"
   ]
  },
  {
   "cell_type": "code",
   "execution_count": 11,
   "metadata": {},
   "outputs": [],
   "source": [
    "model = Sequential()\n",
    "model.add(Dense(20,input_dim=8,activation=\"relu\",kernel_initializer='uniform'))\n",
    "model.add(Dense(60,activation=\"relu\",kernel_initializer='uniform'))\n",
    "model.add(Dropout(0.25))\n",
    "model.add(Dense(70,activation=\"relu\",kernel_initializer='uniform'))\n",
    "model.add(Dense(40,activation=\"relu\",kernel_initializer='uniform'))\n",
    "model.add(Dense(1,activation=\"sigmoid\",kernel_initializer='uniform'))"
   ]
  },
  {
   "cell_type": "code",
   "execution_count": 12,
   "metadata": {},
   "outputs": [],
   "source": [
    "model.compile(loss=\"binary_crossentropy\",optimizer=\"adam\",metrics=['accuracy'])"
   ]
  },
  {
   "cell_type": "code",
   "execution_count": 13,
   "metadata": {},
   "outputs": [
    {
     "name": "stdout",
     "output_type": "stream",
     "text": [
      "Epoch 1/120\n",
      "576/576 [==============================] - 0s 409us/step - loss: 0.6870 - accuracy: 0.6458\n",
      "Epoch 2/120\n",
      "576/576 [==============================] - 0s 115us/step - loss: 0.6646 - accuracy: 0.6545\n",
      "Epoch 3/120\n",
      "576/576 [==============================] - 0s 116us/step - loss: 0.6455 - accuracy: 0.6545\n",
      "Epoch 4/120\n",
      "576/576 [==============================] - 0s 124us/step - loss: 0.6241 - accuracy: 0.6545\n",
      "Epoch 5/120\n",
      "576/576 [==============================] - 0s 101us/step - loss: 0.6236 - accuracy: 0.6510\n",
      "Epoch 6/120\n",
      "576/576 [==============================] - 0s 127us/step - loss: 0.6043 - accuracy: 0.6684\n",
      "Epoch 7/120\n",
      "576/576 [==============================] - 0s 114us/step - loss: 0.5957 - accuracy: 0.6736\n",
      "Epoch 8/120\n",
      "576/576 [==============================] - 0s 101us/step - loss: 0.6158 - accuracy: 0.6719\n",
      "Epoch 9/120\n",
      "576/576 [==============================] - 0s 131us/step - loss: 0.5947 - accuracy: 0.6997\n",
      "Epoch 10/120\n",
      "576/576 [==============================] - 0s 88us/step - loss: 0.5793 - accuracy: 0.7066\n",
      "Epoch 11/120\n",
      "576/576 [==============================] - 0s 108us/step - loss: 0.5757 - accuracy: 0.6944\n",
      "Epoch 12/120\n",
      "576/576 [==============================] - 0s 98us/step - loss: 0.5794 - accuracy: 0.7083\n",
      "Epoch 13/120\n",
      "576/576 [==============================] - 0s 112us/step - loss: 0.5760 - accuracy: 0.7188\n",
      "Epoch 14/120\n",
      "576/576 [==============================] - 0s 104us/step - loss: 0.5704 - accuracy: 0.6962\n",
      "Epoch 15/120\n",
      "576/576 [==============================] - 0s 113us/step - loss: 0.5765 - accuracy: 0.6875\n",
      "Epoch 16/120\n",
      "576/576 [==============================] - 0s 116us/step - loss: 0.5734 - accuracy: 0.7031\n",
      "Epoch 17/120\n",
      "576/576 [==============================] - 0s 102us/step - loss: 0.5752 - accuracy: 0.7326\n",
      "Epoch 18/120\n",
      "576/576 [==============================] - 0s 101us/step - loss: 0.5709 - accuracy: 0.7222\n",
      "Epoch 19/120\n",
      "576/576 [==============================] - 0s 93us/step - loss: 0.5704 - accuracy: 0.7153\n",
      "Epoch 20/120\n",
      "576/576 [==============================] - 0s 90us/step - loss: 0.5675 - accuracy: 0.7118\n",
      "Epoch 21/120\n",
      "576/576 [==============================] - 0s 105us/step - loss: 0.5586 - accuracy: 0.7170\n",
      "Epoch 22/120\n",
      "576/576 [==============================] - 0s 122us/step - loss: 0.5694 - accuracy: 0.6997\n",
      "Epoch 23/120\n",
      "576/576 [==============================] - 0s 101us/step - loss: 0.5673 - accuracy: 0.6840\n",
      "Epoch 24/120\n",
      "576/576 [==============================] - 0s 122us/step - loss: 0.5488 - accuracy: 0.7205\n",
      "Epoch 25/120\n",
      "576/576 [==============================] - 0s 115us/step - loss: 0.5585 - accuracy: 0.7153\n",
      "Epoch 26/120\n",
      "576/576 [==============================] - 0s 105us/step - loss: 0.5579 - accuracy: 0.6962\n",
      "Epoch 27/120\n",
      "576/576 [==============================] - 0s 102us/step - loss: 0.5557 - accuracy: 0.7014\n",
      "Epoch 28/120\n",
      "576/576 [==============================] - 0s 124us/step - loss: 0.5640 - accuracy: 0.7014\n",
      "Epoch 29/120\n",
      "576/576 [==============================] - 0s 105us/step - loss: 0.5515 - accuracy: 0.7274\n",
      "Epoch 30/120\n",
      "576/576 [==============================] - 0s 108us/step - loss: 0.5464 - accuracy: 0.7240\n",
      "Epoch 31/120\n",
      "576/576 [==============================] - 0s 108us/step - loss: 0.5385 - accuracy: 0.7135\n",
      "Epoch 32/120\n",
      "576/576 [==============================] - 0s 97us/step - loss: 0.5327 - accuracy: 0.7257\n",
      "Epoch 33/120\n",
      "576/576 [==============================] - 0s 126us/step - loss: 0.5431 - accuracy: 0.7188\n",
      "Epoch 34/120\n",
      "576/576 [==============================] - 0s 68us/step - loss: 0.5385 - accuracy: 0.7188\n",
      "Epoch 35/120\n",
      "576/576 [==============================] - 0s 64us/step - loss: 0.5281 - accuracy: 0.7448\n",
      "Epoch 36/120\n",
      "576/576 [==============================] - 0s 73us/step - loss: 0.5161 - accuracy: 0.7413\n",
      "Epoch 37/120\n",
      "576/576 [==============================] - 0s 66us/step - loss: 0.5356 - accuracy: 0.7222\n",
      "Epoch 38/120\n",
      "576/576 [==============================] - 0s 155us/step - loss: 0.5292 - accuracy: 0.7049\n",
      "Epoch 39/120\n",
      "576/576 [==============================] - 0s 119us/step - loss: 0.5391 - accuracy: 0.7135\n",
      "Epoch 40/120\n",
      "576/576 [==============================] - 0s 90us/step - loss: 0.5524 - accuracy: 0.7135\n",
      "Epoch 41/120\n",
      "576/576 [==============================] - 0s 76us/step - loss: 0.5338 - accuracy: 0.7274\n",
      "Epoch 42/120\n",
      "576/576 [==============================] - 0s 94us/step - loss: 0.5191 - accuracy: 0.7483\n",
      "Epoch 43/120\n",
      "576/576 [==============================] - 0s 89us/step - loss: 0.5242 - accuracy: 0.7257\n",
      "Epoch 44/120\n",
      "576/576 [==============================] - 0s 100us/step - loss: 0.5349 - accuracy: 0.7240\n",
      "Epoch 45/120\n",
      "576/576 [==============================] - 0s 104us/step - loss: 0.5236 - accuracy: 0.7344\n",
      "Epoch 46/120\n",
      "576/576 [==============================] - 0s 89us/step - loss: 0.5234 - accuracy: 0.7344\n",
      "Epoch 47/120\n",
      "576/576 [==============================] - 0s 108us/step - loss: 0.5199 - accuracy: 0.7153\n",
      "Epoch 48/120\n",
      "576/576 [==============================] - 0s 109us/step - loss: 0.5128 - accuracy: 0.7587\n",
      "Epoch 49/120\n",
      "576/576 [==============================] - 0s 87us/step - loss: 0.5271 - accuracy: 0.7344\n",
      "Epoch 50/120\n",
      "576/576 [==============================] - 0s 88us/step - loss: 0.5056 - accuracy: 0.7378\n",
      "Epoch 51/120\n",
      "576/576 [==============================] - 0s 117us/step - loss: 0.5082 - accuracy: 0.7326\n",
      "Epoch 52/120\n",
      "576/576 [==============================] - 0s 131us/step - loss: 0.5086 - accuracy: 0.7326\n",
      "Epoch 53/120\n",
      "576/576 [==============================] - 0s 95us/step - loss: 0.5344 - accuracy: 0.7101\n",
      "Epoch 54/120\n",
      "576/576 [==============================] - 0s 80us/step - loss: 0.5279 - accuracy: 0.7188\n",
      "Epoch 55/120\n",
      "576/576 [==============================] - 0s 106us/step - loss: 0.5033 - accuracy: 0.7326\n",
      "Epoch 56/120\n",
      "576/576 [==============================] - 0s 82us/step - loss: 0.4958 - accuracy: 0.7413\n",
      "Epoch 57/120\n",
      "576/576 [==============================] - 0s 96us/step - loss: 0.4969 - accuracy: 0.7448\n",
      "Epoch 58/120\n",
      "576/576 [==============================] - 0s 100us/step - loss: 0.5130 - accuracy: 0.7517\n",
      "Epoch 59/120\n",
      "576/576 [==============================] - 0s 77us/step - loss: 0.4984 - accuracy: 0.7465\n",
      "Epoch 60/120\n",
      "576/576 [==============================] - 0s 98us/step - loss: 0.5062 - accuracy: 0.7378\n",
      "Epoch 61/120\n",
      "576/576 [==============================] - 0s 109us/step - loss: 0.5176 - accuracy: 0.7361\n",
      "Epoch 62/120\n",
      "576/576 [==============================] - 0s 118us/step - loss: 0.5103 - accuracy: 0.7361\n",
      "Epoch 63/120\n",
      "576/576 [==============================] - 0s 115us/step - loss: 0.5115 - accuracy: 0.7396\n",
      "Epoch 64/120\n",
      "576/576 [==============================] - 0s 108us/step - loss: 0.5156 - accuracy: 0.7396\n",
      "Epoch 65/120\n",
      "576/576 [==============================] - 0s 105us/step - loss: 0.5059 - accuracy: 0.7465\n",
      "Epoch 66/120\n",
      "576/576 [==============================] - 0s 87us/step - loss: 0.5104 - accuracy: 0.7413\n",
      "Epoch 67/120\n",
      "576/576 [==============================] - 0s 80us/step - loss: 0.4872 - accuracy: 0.7656\n",
      "Epoch 68/120\n",
      "576/576 [==============================] - 0s 83us/step - loss: 0.5080 - accuracy: 0.7535\n",
      "Epoch 69/120\n",
      "576/576 [==============================] - 0s 81us/step - loss: 0.4978 - accuracy: 0.7465\n",
      "Epoch 70/120\n",
      "576/576 [==============================] - 0s 88us/step - loss: 0.4938 - accuracy: 0.7569\n",
      "Epoch 71/120\n",
      "576/576 [==============================] - 0s 93us/step - loss: 0.4850 - accuracy: 0.7587\n",
      "Epoch 72/120\n",
      "576/576 [==============================] - 0s 93us/step - loss: 0.4949 - accuracy: 0.7639\n",
      "Epoch 73/120\n",
      "576/576 [==============================] - 0s 133us/step - loss: 0.5032 - accuracy: 0.7517\n",
      "Epoch 74/120\n",
      "576/576 [==============================] - 0s 92us/step - loss: 0.4718 - accuracy: 0.7604\n",
      "Epoch 75/120\n",
      "576/576 [==============================] - 0s 102us/step - loss: 0.5020 - accuracy: 0.7431\n",
      "Epoch 76/120\n",
      "576/576 [==============================] - 0s 136us/step - loss: 0.4809 - accuracy: 0.7674\n",
      "Epoch 77/120\n",
      "576/576 [==============================] - 0s 91us/step - loss: 0.4875 - accuracy: 0.7587\n",
      "Epoch 78/120\n",
      "576/576 [==============================] - 0s 89us/step - loss: 0.4809 - accuracy: 0.7465\n",
      "Epoch 79/120\n",
      "576/576 [==============================] - 0s 86us/step - loss: 0.4826 - accuracy: 0.7604\n",
      "Epoch 80/120\n"
     ]
    },
    {
     "name": "stdout",
     "output_type": "stream",
     "text": [
      "576/576 [==============================] - 0s 83us/step - loss: 0.4813 - accuracy: 0.7604\n",
      "Epoch 81/120\n",
      "576/576 [==============================] - 0s 92us/step - loss: 0.4878 - accuracy: 0.7674\n",
      "Epoch 82/120\n",
      "576/576 [==============================] - 0s 88us/step - loss: 0.4812 - accuracy: 0.7656\n",
      "Epoch 83/120\n",
      "576/576 [==============================] - 0s 87us/step - loss: 0.4945 - accuracy: 0.7726\n",
      "Epoch 84/120\n",
      "576/576 [==============================] - 0s 94us/step - loss: 0.5115 - accuracy: 0.7257\n",
      "Epoch 85/120\n",
      "576/576 [==============================] - 0s 100us/step - loss: 0.4999 - accuracy: 0.7656\n",
      "Epoch 86/120\n",
      "576/576 [==============================] - 0s 88us/step - loss: 0.4809 - accuracy: 0.7587\n",
      "Epoch 87/120\n",
      "576/576 [==============================] - 0s 88us/step - loss: 0.4943 - accuracy: 0.7396\n",
      "Epoch 88/120\n",
      "576/576 [==============================] - 0s 101us/step - loss: 0.4818 - accuracy: 0.7622\n",
      "Epoch 89/120\n",
      "576/576 [==============================] - 0s 86us/step - loss: 0.4761 - accuracy: 0.7639\n",
      "Epoch 90/120\n",
      "576/576 [==============================] - 0s 90us/step - loss: 0.4748 - accuracy: 0.7500\n",
      "Epoch 91/120\n",
      "576/576 [==============================] - 0s 108us/step - loss: 0.4947 - accuracy: 0.7569\n",
      "Epoch 92/120\n",
      "576/576 [==============================] - 0s 98us/step - loss: 0.4853 - accuracy: 0.7639\n",
      "Epoch 93/120\n",
      "576/576 [==============================] - 0s 104us/step - loss: 0.4673 - accuracy: 0.7691\n",
      "Epoch 94/120\n",
      "576/576 [==============================] - 0s 105us/step - loss: 0.4874 - accuracy: 0.7639\n",
      "Epoch 95/120\n",
      "576/576 [==============================] - 0s 95us/step - loss: 0.4744 - accuracy: 0.7778\n",
      "Epoch 96/120\n",
      "576/576 [==============================] - 0s 105us/step - loss: 0.5001 - accuracy: 0.7448\n",
      "Epoch 97/120\n",
      "576/576 [==============================] - 0s 88us/step - loss: 0.4558 - accuracy: 0.7830\n",
      "Epoch 98/120\n",
      "576/576 [==============================] - 0s 104us/step - loss: 0.4637 - accuracy: 0.7674\n",
      "Epoch 99/120\n",
      "576/576 [==============================] - 0s 92us/step - loss: 0.4566 - accuracy: 0.7760\n",
      "Epoch 100/120\n",
      "576/576 [==============================] - 0s 101us/step - loss: 0.4700 - accuracy: 0.7604\n",
      "Epoch 101/120\n",
      "576/576 [==============================] - 0s 91us/step - loss: 0.4678 - accuracy: 0.7847\n",
      "Epoch 102/120\n",
      "576/576 [==============================] - 0s 92us/step - loss: 0.4837 - accuracy: 0.7517\n",
      "Epoch 103/120\n",
      "576/576 [==============================] - 0s 107us/step - loss: 0.4556 - accuracy: 0.7795\n",
      "Epoch 104/120\n",
      "576/576 [==============================] - 0s 90us/step - loss: 0.4618 - accuracy: 0.7865\n",
      "Epoch 105/120\n",
      "576/576 [==============================] - 0s 107us/step - loss: 0.4653 - accuracy: 0.7760\n",
      "Epoch 106/120\n",
      "576/576 [==============================] - 0s 109us/step - loss: 0.4586 - accuracy: 0.7743\n",
      "Epoch 107/120\n",
      "576/576 [==============================] - 0s 89us/step - loss: 0.4544 - accuracy: 0.7726\n",
      "Epoch 108/120\n",
      "576/576 [==============================] - 0s 116us/step - loss: 0.4722 - accuracy: 0.7569\n",
      "Epoch 109/120\n",
      "576/576 [==============================] - 0s 111us/step - loss: 0.4677 - accuracy: 0.7691\n",
      "Epoch 110/120\n",
      "576/576 [==============================] - 0s 92us/step - loss: 0.4688 - accuracy: 0.7743\n",
      "Epoch 111/120\n",
      "576/576 [==============================] - 0s 79us/step - loss: 0.4742 - accuracy: 0.7639\n",
      "Epoch 112/120\n",
      "576/576 [==============================] - 0s 81us/step - loss: 0.4525 - accuracy: 0.7812\n",
      "Epoch 113/120\n",
      "576/576 [==============================] - 0s 90us/step - loss: 0.4517 - accuracy: 0.7708\n",
      "Epoch 114/120\n",
      "576/576 [==============================] - 0s 92us/step - loss: 0.4536 - accuracy: 0.7795\n",
      "Epoch 115/120\n",
      "576/576 [==============================] - 0s 89us/step - loss: 0.4720 - accuracy: 0.7465\n",
      "Epoch 116/120\n",
      "576/576 [==============================] - 0s 88us/step - loss: 0.4759 - accuracy: 0.7622\n",
      "Epoch 117/120\n",
      "576/576 [==============================] - 0s 105us/step - loss: 0.4688 - accuracy: 0.7622\n",
      "Epoch 118/120\n",
      "576/576 [==============================] - 0s 100us/step - loss: 0.4539 - accuracy: 0.7604\n",
      "Epoch 119/120\n",
      "576/576 [==============================] - 0s 106us/step - loss: 0.4604 - accuracy: 0.7674\n",
      "Epoch 120/120\n",
      "576/576 [==============================] - 0s 107us/step - loss: 0.4567 - accuracy: 0.7812\n"
     ]
    },
    {
     "data": {
      "text/plain": [
       "<keras.callbacks.callbacks.History at 0x7fddc8e69ee0>"
      ]
     },
     "execution_count": 13,
     "metadata": {},
     "output_type": "execute_result"
    }
   ],
   "source": [
    "model.fit(X_train,y_train,epochs=120,batch_size=20)"
   ]
  },
  {
   "cell_type": "code",
   "execution_count": 14,
   "metadata": {},
   "outputs": [
    {
     "name": "stdout",
     "output_type": "stream",
     "text": [
      "192/192 [==============================] - 0s 162us/step\n"
     ]
    }
   ],
   "source": [
    "score = model.evaluate(_test,y_test)"
   ]
  },
  {
   "cell_type": "code",
   "execution_count": 15,
   "metadata": {},
   "outputs": [
    {
     "name": "stdout",
     "output_type": "stream",
     "text": [
      "79.6875\n"
     ]
    }
   ],
   "source": [
    "print(score[1]*100)"
   ]
  },
  {
   "cell_type": "code",
   "execution_count": null,
   "metadata": {},
   "outputs": [],
   "source": []
  },
  {
   "cell_type": "code",
   "execution_count": null,
   "metadata": {},
   "outputs": [],
   "source": []
  }
 ],
 "metadata": {
  "kernelspec": {
   "display_name": "Python 3",
   "language": "python",
   "name": "python3"
  },
  "language_info": {
   "codemirror_mode": {
    "name": "ipython",
    "version": 3
   },
   "file_extension": ".py",
   "mimetype": "text/x-python",
   "name": "python",
   "nbconvert_exporter": "python",
   "pygments_lexer": "ipython3",
   "version": "3.8.2"
  }
 },
 "nbformat": 4,
 "nbformat_minor": 4
}
