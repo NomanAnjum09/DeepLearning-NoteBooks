{
 "cells": [
  {
   "cell_type": "code",
   "execution_count": 124,
   "metadata": {},
   "outputs": [],
   "source": [
    "from IPython.display import Image,SVG\n",
    "import matplotlib.pyplot as plt\n",
    "%matplotlib inline\n",
    "import numpy as np\n",
    "from keras.datasets import mnist\n",
    "from keras.layers import Input,Dense,Conv2D,MaxPool2D,UpSampling2D,Flatten,Reshape\n",
    "from keras.models import Model,Sequential\n",
    "from keras import regularizers"
   ]
  },
  {
   "cell_type": "code",
   "execution_count": 125,
   "metadata": {},
   "outputs": [],
   "source": [
    "(X_train,_),(X_test,_) = mnist.load_data()\n",
    "\n",
    "max_value = float(X_train.max())\n",
    "x_train = X_train.astype('float32')/max_value\n",
    "x_test = X_test.astype('float32')/max_value"
   ]
  },
  {
   "cell_type": "code",
   "execution_count": 126,
   "metadata": {},
   "outputs": [
    {
     "name": "stdout",
     "output_type": "stream",
     "text": [
      "(60000, 28, 28)\n",
      "(10000, 28, 28)\n"
     ]
    }
   ],
   "source": [
    "print(x_train.shape)\n",
    "print(x_test.shape)"
   ]
  },
  {
   "cell_type": "code",
   "execution_count": 127,
   "metadata": {},
   "outputs": [],
   "source": [
    "x_train  = x_train.reshape(len(x_train),28,28,1)\n",
    "x_test = x_test.reshape(len(x_test),28,28,1)"
   ]
  },
  {
   "cell_type": "code",
   "execution_count": 128,
   "metadata": {},
   "outputs": [],
   "source": [
    "#Auto Encoder Model\n",
    "\n",
    "\n",
    "autoEncoder = Sequential()\n"
   ]
  },
  {
   "cell_type": "code",
   "execution_count": 129,
   "metadata": {},
   "outputs": [],
   "source": [
    "#Encoder\n",
    "\n",
    "autoEncoder.add(Conv2D(16,(3,3),padding='same',activation='relu',input_shape=x_train.shape[1:]))\n",
    "autoEncoder.add(MaxPool2D((2,2),padding='same'))\n",
    "autoEncoder.add(Conv2D(8,(3,3),padding='same',activation='relu'))\n",
    "autoEncoder.add(MaxPool2D((2,2),padding='same'))\n",
    "autoEncoder.add(Conv2D(8,(3,3),strides=(2,2),activation='relu',padding='same'))"
   ]
  },
  {
   "cell_type": "code",
   "execution_count": 130,
   "metadata": {},
   "outputs": [],
   "source": [
    "autoEncoder.add(Flatten())\n",
    "autoEncoder.add(Reshape((4,4,8)))"
   ]
  },
  {
   "cell_type": "code",
   "execution_count": 131,
   "metadata": {},
   "outputs": [],
   "source": [
    "#Decoder\n",
    "autoEncoder.add(Conv2D(8,(3,3),activation='relu',padding='same'))\n",
    "autoEncoder.add(UpSampling2D((2,2)))\n",
    "\n",
    "autoEncoder.add(Conv2D(8,(3,3),activation='relu',padding='same'))\n",
    "autoEncoder.add(UpSampling2D((2,2)))\n",
    "\n",
    "autoEncoder.add(Conv2D(16,(3,3),activation='relu'))\n",
    "autoEncoder.add(UpSampling2D((2,2)))\n",
    "\n",
    "autoEncoder.add(Conv2D(1,(3,3),activation='sigmoid',padding='same'))"
   ]
  },
  {
   "cell_type": "code",
   "execution_count": 132,
   "metadata": {},
   "outputs": [
    {
     "name": "stdout",
     "output_type": "stream",
     "text": [
      "Model: \"sequential_12\"\n",
      "_________________________________________________________________\n",
      "Layer (type)                 Output Shape              Param #   \n",
      "=================================================================\n",
      "conv2d_86 (Conv2D)           (None, 28, 28, 16)        160       \n",
      "_________________________________________________________________\n",
      "max_pooling2d_25 (MaxPooling (None, 14, 14, 16)        0         \n",
      "_________________________________________________________________\n",
      "conv2d_87 (Conv2D)           (None, 14, 14, 8)         1160      \n",
      "_________________________________________________________________\n",
      "max_pooling2d_26 (MaxPooling (None, 7, 7, 8)           0         \n",
      "_________________________________________________________________\n",
      "conv2d_88 (Conv2D)           (None, 4, 4, 8)           584       \n",
      "_________________________________________________________________\n",
      "flatten_16 (Flatten)         (None, 128)               0         \n",
      "_________________________________________________________________\n",
      "reshape_13 (Reshape)         (None, 4, 4, 8)           0         \n",
      "_________________________________________________________________\n",
      "conv2d_89 (Conv2D)           (None, 4, 4, 8)           584       \n",
      "_________________________________________________________________\n",
      "up_sampling2d_35 (UpSampling (None, 8, 8, 8)           0         \n",
      "_________________________________________________________________\n",
      "conv2d_90 (Conv2D)           (None, 8, 8, 8)           584       \n",
      "_________________________________________________________________\n",
      "up_sampling2d_36 (UpSampling (None, 16, 16, 8)         0         \n",
      "_________________________________________________________________\n",
      "conv2d_91 (Conv2D)           (None, 14, 14, 16)        1168      \n",
      "_________________________________________________________________\n",
      "up_sampling2d_37 (UpSampling (None, 28, 28, 16)        0         \n",
      "_________________________________________________________________\n",
      "conv2d_92 (Conv2D)           (None, 28, 28, 1)         145       \n",
      "=================================================================\n",
      "Total params: 4,385\n",
      "Trainable params: 4,385\n",
      "Non-trainable params: 0\n",
      "_________________________________________________________________\n"
     ]
    }
   ],
   "source": [
    "autoEncoder.summary()"
   ]
  },
  {
   "cell_type": "code",
   "execution_count": 134,
   "metadata": {},
   "outputs": [],
   "source": [
    "encoder = Model(inputs=autoEncoder.input,outputs=autoEncoder.get_layer('flatten_16').output)"
   ]
  },
  {
   "cell_type": "code",
   "execution_count": 135,
   "metadata": {},
   "outputs": [
    {
     "name": "stdout",
     "output_type": "stream",
     "text": [
      "Model: \"model_4\"\n",
      "_________________________________________________________________\n",
      "Layer (type)                 Output Shape              Param #   \n",
      "=================================================================\n",
      "conv2d_86_input (InputLayer) (None, 28, 28, 1)         0         \n",
      "_________________________________________________________________\n",
      "conv2d_86 (Conv2D)           (None, 28, 28, 16)        160       \n",
      "_________________________________________________________________\n",
      "max_pooling2d_25 (MaxPooling (None, 14, 14, 16)        0         \n",
      "_________________________________________________________________\n",
      "conv2d_87 (Conv2D)           (None, 14, 14, 8)         1160      \n",
      "_________________________________________________________________\n",
      "max_pooling2d_26 (MaxPooling (None, 7, 7, 8)           0         \n",
      "_________________________________________________________________\n",
      "conv2d_88 (Conv2D)           (None, 4, 4, 8)           584       \n",
      "_________________________________________________________________\n",
      "flatten_16 (Flatten)         (None, 128)               0         \n",
      "=================================================================\n",
      "Total params: 1,904\n",
      "Trainable params: 1,904\n",
      "Non-trainable params: 0\n",
      "_________________________________________________________________\n"
     ]
    }
   ],
   "source": [
    "encoder.summary()"
   ]
  },
  {
   "cell_type": "code",
   "execution_count": 137,
   "metadata": {},
   "outputs": [
    {
     "name": "stdout",
     "output_type": "stream",
     "text": [
      "Train on 60000 samples, validate on 10000 samples\n",
      "Epoch 1/100\n",
      "60000/60000 [==============================] - 53s 876us/step - loss: 0.2021 - val_loss: 0.1262\n",
      "Epoch 2/100\n",
      "60000/60000 [==============================] - 50s 837us/step - loss: 0.1183 - val_loss: 0.1110\n",
      "Epoch 3/100\n",
      "60000/60000 [==============================] - 50s 838us/step - loss: 0.1090 - val_loss: 0.1051\n",
      "Epoch 4/100\n",
      "60000/60000 [==============================] - 50s 836us/step - loss: 0.1044 - val_loss: 0.1013\n",
      "Epoch 5/100\n",
      "60000/60000 [==============================] - 50s 838us/step - loss: 0.1014 - val_loss: 0.0987\n",
      "Epoch 6/100\n",
      "60000/60000 [==============================] - 51s 842us/step - loss: 0.0990 - val_loss: 0.0966\n",
      "Epoch 7/100\n",
      "60000/60000 [==============================] - 50s 842us/step - loss: 0.0972 - val_loss: 0.0951\n",
      "Epoch 8/100\n",
      "60000/60000 [==============================] - 51s 842us/step - loss: 0.0956 - val_loss: 0.0935\n",
      "Epoch 9/100\n",
      "60000/60000 [==============================] - 51s 843us/step - loss: 0.0943 - val_loss: 0.0931\n",
      "Epoch 10/100\n",
      "60000/60000 [==============================] - 51s 845us/step - loss: 0.0932 - val_loss: 0.0917\n",
      "Epoch 11/100\n",
      "60000/60000 [==============================] - 51s 853us/step - loss: 0.0923 - val_loss: 0.0907\n",
      "Epoch 12/100\n",
      "60000/60000 [==============================] - 68s 1ms/step - loss: 0.0913 - val_loss: 0.0900\n",
      "Epoch 13/100\n",
      "60000/60000 [==============================] - 92s 2ms/step - loss: 0.0906 - val_loss: 0.0891\n",
      "Epoch 14/100\n",
      "60000/60000 [==============================] - 68s 1ms/step - loss: 0.0898 - val_loss: 0.0885\n",
      "Epoch 15/100\n",
      "60000/60000 [==============================] - 47s 785us/step - loss: 0.0892 - val_loss: 0.0877\n",
      "Epoch 16/100\n",
      "60000/60000 [==============================] - 50s 835us/step - loss: 0.0886 - val_loss: 0.0872\n",
      "Epoch 17/100\n",
      "60000/60000 [==============================] - 54s 903us/step - loss: 0.0880 - val_loss: 0.0867\n",
      "Epoch 18/100\n",
      "60000/60000 [==============================] - 46s 759us/step - loss: 0.0876 - val_loss: 0.0863\n",
      "Epoch 19/100\n",
      "60000/60000 [==============================] - 48s 794us/step - loss: 0.0872 - val_loss: 0.0859\n",
      "Epoch 20/100\n",
      "60000/60000 [==============================] - 47s 789us/step - loss: 0.0868 - val_loss: 0.0855\n",
      "Epoch 21/100\n",
      "60000/60000 [==============================] - 47s 776us/step - loss: 0.0865 - val_loss: 0.0853\n",
      "Epoch 22/100\n",
      "60000/60000 [==============================] - 46s 774us/step - loss: 0.0862 - val_loss: 0.0849\n",
      "Epoch 23/100\n",
      "60000/60000 [==============================] - 48s 799us/step - loss: 0.0859 - val_loss: 0.0846\n",
      "Epoch 24/100\n",
      "60000/60000 [==============================] - 47s 791us/step - loss: 0.0857 - val_loss: 0.0846\n",
      "Epoch 25/100\n",
      "60000/60000 [==============================] - 47s 781us/step - loss: 0.0854 - val_loss: 0.0844\n",
      "Epoch 26/100\n",
      "60000/60000 [==============================] - 49s 820us/step - loss: 0.0852 - val_loss: 0.0843\n",
      "Epoch 27/100\n",
      "60000/60000 [==============================] - 46s 766us/step - loss: 0.0850 - val_loss: 0.0839\n",
      "Epoch 28/100\n",
      "60000/60000 [==============================] - 46s 765us/step - loss: 0.0848 - val_loss: 0.0836\n",
      "Epoch 29/100\n",
      "60000/60000 [==============================] - 46s 767us/step - loss: 0.0846 - val_loss: 0.0837\n",
      "Epoch 30/100\n",
      "60000/60000 [==============================] - 46s 765us/step - loss: 0.0845 - val_loss: 0.0834\n",
      "Epoch 31/100\n",
      "60000/60000 [==============================] - 46s 768us/step - loss: 0.0843 - val_loss: 0.0834\n",
      "Epoch 32/100\n",
      "60000/60000 [==============================] - 46s 767us/step - loss: 0.0842 - val_loss: 0.0831\n",
      "Epoch 33/100\n",
      "60000/60000 [==============================] - 48s 802us/step - loss: 0.0841 - val_loss: 0.0831\n",
      "Epoch 34/100\n",
      "60000/60000 [==============================] - 49s 819us/step - loss: 0.0839 - val_loss: 0.0828\n",
      "Epoch 35/100\n",
      "60000/60000 [==============================] - 46s 767us/step - loss: 0.0838 - val_loss: 0.0837\n",
      "Epoch 36/100\n",
      "60000/60000 [==============================] - 46s 770us/step - loss: 0.0837 - val_loss: 0.0828\n",
      "Epoch 37/100\n",
      "60000/60000 [==============================] - 46s 765us/step - loss: 0.0836 - val_loss: 0.0826\n",
      "Epoch 38/100\n",
      "60000/60000 [==============================] - 46s 760us/step - loss: 0.0834 - val_loss: 0.0824\n",
      "Epoch 39/100\n",
      "60000/60000 [==============================] - 46s 761us/step - loss: 0.0834 - val_loss: 0.0823\n",
      "Epoch 40/100\n",
      "60000/60000 [==============================] - 46s 761us/step - loss: 0.0832 - val_loss: 0.0821\n",
      "Epoch 41/100\n",
      "60000/60000 [==============================] - 46s 764us/step - loss: 0.0832 - val_loss: 0.0821\n",
      "Epoch 42/100\n",
      "60000/60000 [==============================] - 49s 812us/step - loss: 0.0830 - val_loss: 0.0819\n",
      "Epoch 43/100\n",
      "60000/60000 [==============================] - 46s 762us/step - loss: 0.0830 - val_loss: 0.0821\n",
      "Epoch 44/100\n",
      "60000/60000 [==============================] - 47s 791us/step - loss: 0.0829 - val_loss: 0.0818\n",
      "Epoch 45/100\n",
      "60000/60000 [==============================] - 46s 760us/step - loss: 0.0828 - val_loss: 0.0818\n",
      "Epoch 46/100\n",
      "60000/60000 [==============================] - 46s 760us/step - loss: 0.0827 - val_loss: 0.0817\n",
      "Epoch 47/100\n",
      "60000/60000 [==============================] - 47s 775us/step - loss: 0.0826 - val_loss: 0.0816\n",
      "Epoch 48/100\n",
      "60000/60000 [==============================] - 46s 761us/step - loss: 0.0825 - val_loss: 0.0815\n",
      "Epoch 49/100\n",
      "60000/60000 [==============================] - 46s 765us/step - loss: 0.0824 - val_loss: 0.0815\n",
      "Epoch 50/100\n",
      "60000/60000 [==============================] - 47s 777us/step - loss: 0.0824 - val_loss: 0.0815\n",
      "Epoch 51/100\n",
      "60000/60000 [==============================] - 46s 760us/step - loss: 0.0824 - val_loss: 0.0813\n",
      "Epoch 52/100\n",
      "60000/60000 [==============================] - 47s 787us/step - loss: 0.0822 - val_loss: 0.0812\n",
      "Epoch 53/100\n",
      "60000/60000 [==============================] - 47s 781us/step - loss: 0.0822 - val_loss: 0.0813\n",
      "Epoch 54/100\n",
      "60000/60000 [==============================] - 46s 761us/step - loss: 0.0821 - val_loss: 0.0811\n",
      "Epoch 55/100\n",
      "60000/60000 [==============================] - 47s 784us/step - loss: 0.0821 - val_loss: 0.0812\n",
      "Epoch 56/100\n",
      "60000/60000 [==============================] - 49s 813us/step - loss: 0.0820 - val_loss: 0.0810\n",
      "Epoch 57/100\n",
      "60000/60000 [==============================] - 49s 817us/step - loss: 0.0819 - val_loss: 0.0813\n",
      "Epoch 58/100\n",
      "60000/60000 [==============================] - 46s 760us/step - loss: 0.0819 - val_loss: 0.0815\n",
      "Epoch 59/100\n",
      "60000/60000 [==============================] - 46s 760us/step - loss: 0.0818 - val_loss: 0.0808\n",
      "Epoch 60/100\n",
      "60000/60000 [==============================] - 46s 764us/step - loss: 0.0818 - val_loss: 0.0807\n",
      "Epoch 61/100\n",
      "60000/60000 [==============================] - 46s 760us/step - loss: 0.0817 - val_loss: 0.0808\n",
      "Epoch 62/100\n",
      "60000/60000 [==============================] - 46s 761us/step - loss: 0.0817 - val_loss: 0.0807\n",
      "Epoch 63/100\n",
      "60000/60000 [==============================] - 48s 799us/step - loss: 0.0816 - val_loss: 0.0806\n",
      "Epoch 64/100\n",
      "60000/60000 [==============================] - 49s 819us/step - loss: 0.0816 - val_loss: 0.0805\n",
      "Epoch 65/100\n",
      "60000/60000 [==============================] - 46s 763us/step - loss: 0.0815 - val_loss: 0.0807\n",
      "Epoch 66/100\n",
      "60000/60000 [==============================] - 46s 763us/step - loss: 0.0814 - val_loss: 0.0806\n",
      "Epoch 67/100\n",
      "60000/60000 [==============================] - 46s 774us/step - loss: 0.0815 - val_loss: 0.0804\n",
      "Epoch 68/100\n",
      "60000/60000 [==============================] - 46s 760us/step - loss: 0.0813 - val_loss: 0.0804\n",
      "Epoch 69/100\n",
      "60000/60000 [==============================] - 46s 760us/step - loss: 0.0813 - val_loss: 0.0803\n",
      "Epoch 70/100\n",
      "60000/60000 [==============================] - 46s 759us/step - loss: 0.0812 - val_loss: 0.0804\n",
      "Epoch 71/100\n",
      "60000/60000 [==============================] - 46s 760us/step - loss: 0.0812 - val_loss: 0.0802\n",
      "Epoch 72/100\n",
      "60000/60000 [==============================] - 46s 761us/step - loss: 0.0812 - val_loss: 0.0806\n",
      "Epoch 73/100\n",
      "60000/60000 [==============================] - 46s 762us/step - loss: 0.0811 - val_loss: 0.0801\n",
      "Epoch 74/100\n",
      "60000/60000 [==============================] - 46s 761us/step - loss: 0.0810 - val_loss: 0.0803\n",
      "Epoch 75/100\n",
      "60000/60000 [==============================] - 50s 836us/step - loss: 0.0810 - val_loss: 0.0804\n"
     ]
    },
    {
     "name": "stdout",
     "output_type": "stream",
     "text": [
      "Epoch 76/100\n",
      "60000/60000 [==============================] - 51s 846us/step - loss: 0.0810 - val_loss: 0.0800\n",
      "Epoch 77/100\n",
      "60000/60000 [==============================] - 51s 849us/step - loss: 0.0810 - val_loss: 0.0800\n",
      "Epoch 78/100\n",
      "60000/60000 [==============================] - 47s 790us/step - loss: 0.0809 - val_loss: 0.0802\n",
      "Epoch 79/100\n",
      "60000/60000 [==============================] - 47s 789us/step - loss: 0.0809 - val_loss: 0.0804\n",
      "Epoch 80/100\n",
      "60000/60000 [==============================] - 47s 791us/step - loss: 0.0808 - val_loss: 0.0799\n",
      "Epoch 81/100\n",
      "60000/60000 [==============================] - 47s 789us/step - loss: 0.0808 - val_loss: 0.0798\n",
      "Epoch 82/100\n",
      "60000/60000 [==============================] - 50s 833us/step - loss: 0.0807 - val_loss: 0.0799\n",
      "Epoch 83/100\n",
      "60000/60000 [==============================] - 50s 832us/step - loss: 0.0807 - val_loss: 0.0797\n",
      "Epoch 84/100\n",
      "60000/60000 [==============================] - 50s 839us/step - loss: 0.0806 - val_loss: 0.0799\n",
      "Epoch 85/100\n",
      "60000/60000 [==============================] - 53s 885us/step - loss: 0.0807 - val_loss: 0.0800\n",
      "Epoch 86/100\n",
      "60000/60000 [==============================] - 53s 879us/step - loss: 0.0806 - val_loss: 0.0797\n",
      "Epoch 87/100\n",
      "60000/60000 [==============================] - 51s 857us/step - loss: 0.0806 - val_loss: 0.0797\n",
      "Epoch 88/100\n",
      "60000/60000 [==============================] - 51s 857us/step - loss: 0.0805 - val_loss: 0.0796\n",
      "Epoch 89/100\n",
      "60000/60000 [==============================] - 47s 790us/step - loss: 0.0805 - val_loss: 0.0797\n",
      "Epoch 90/100\n",
      "60000/60000 [==============================] - 47s 790us/step - loss: 0.0805 - val_loss: 0.0796\n",
      "Epoch 91/100\n",
      "60000/60000 [==============================] - 47s 791us/step - loss: 0.0804 - val_loss: 0.0801\n",
      "Epoch 92/100\n",
      "60000/60000 [==============================] - 47s 790us/step - loss: 0.0805 - val_loss: 0.0794\n",
      "Epoch 93/100\n",
      "60000/60000 [==============================] - 47s 789us/step - loss: 0.0804 - val_loss: 0.0802\n",
      "Epoch 94/100\n",
      "60000/60000 [==============================] - 47s 789us/step - loss: 0.0804 - val_loss: 0.0795\n",
      "Epoch 95/100\n",
      "60000/60000 [==============================] - 47s 791us/step - loss: 0.0804 - val_loss: 0.0795\n",
      "Epoch 96/100\n",
      "60000/60000 [==============================] - 48s 794us/step - loss: 0.0803 - val_loss: 0.0793\n",
      "Epoch 97/100\n",
      "60000/60000 [==============================] - 48s 792us/step - loss: 0.0803 - val_loss: 0.0796\n",
      "Epoch 98/100\n",
      "60000/60000 [==============================] - 50s 840us/step - loss: 0.0802 - val_loss: 0.0792\n",
      "Epoch 99/100\n",
      "60000/60000 [==============================] - 52s 869us/step - loss: 0.0803 - val_loss: 0.0792\n",
      "Epoch 100/100\n",
      "60000/60000 [==============================] - 47s 784us/step - loss: 0.0802 - val_loss: 0.0793\n"
     ]
    },
    {
     "data": {
      "text/plain": [
       "<keras.callbacks.callbacks.History at 0x7fe42e561130>"
      ]
     },
     "execution_count": 137,
     "metadata": {},
     "output_type": "execute_result"
    }
   ],
   "source": [
    "autoEncoder.compile(optimizer='adam',loss='binary_crossentropy')\n",
    "autoEncoder.fit(x_train,x_train,epochs=100,batch_size=128,validation_data=(x_test,x_test))"
   ]
  },
  {
   "cell_type": "code",
   "execution_count": 138,
   "metadata": {},
   "outputs": [],
   "source": [
    "autoEncoder.save('./models/CnnAutoEncoder.')"
   ]
  },
  {
   "cell_type": "code",
   "execution_count": 139,
   "metadata": {},
   "outputs": [],
   "source": [
    "import keras\n",
    "newModel = keras.models.load_model('./models/CnnAutoEncoder.')"
   ]
  },
  {
   "cell_type": "code",
   "execution_count": 140,
   "metadata": {},
   "outputs": [
    {
     "name": "stdout",
     "output_type": "stream",
     "text": [
      "Model: \"sequential_12\"\n",
      "_________________________________________________________________\n",
      "Layer (type)                 Output Shape              Param #   \n",
      "=================================================================\n",
      "conv2d_86 (Conv2D)           (None, 28, 28, 16)        160       \n",
      "_________________________________________________________________\n",
      "max_pooling2d_25 (MaxPooling (None, 14, 14, 16)        0         \n",
      "_________________________________________________________________\n",
      "conv2d_87 (Conv2D)           (None, 14, 14, 8)         1160      \n",
      "_________________________________________________________________\n",
      "max_pooling2d_26 (MaxPooling (None, 7, 7, 8)           0         \n",
      "_________________________________________________________________\n",
      "conv2d_88 (Conv2D)           (None, 4, 4, 8)           584       \n",
      "_________________________________________________________________\n",
      "flatten_16 (Flatten)         (None, 128)               0         \n",
      "_________________________________________________________________\n",
      "reshape_13 (Reshape)         (None, 4, 4, 8)           0         \n",
      "_________________________________________________________________\n",
      "conv2d_89 (Conv2D)           (None, 4, 4, 8)           584       \n",
      "_________________________________________________________________\n",
      "up_sampling2d_35 (UpSampling (None, 8, 8, 8)           0         \n",
      "_________________________________________________________________\n",
      "conv2d_90 (Conv2D)           (None, 8, 8, 8)           584       \n",
      "_________________________________________________________________\n",
      "up_sampling2d_36 (UpSampling (None, 16, 16, 8)         0         \n",
      "_________________________________________________________________\n",
      "conv2d_91 (Conv2D)           (None, 14, 14, 16)        1168      \n",
      "_________________________________________________________________\n",
      "up_sampling2d_37 (UpSampling (None, 28, 28, 16)        0         \n",
      "_________________________________________________________________\n",
      "conv2d_92 (Conv2D)           (None, 28, 28, 1)         145       \n",
      "=================================================================\n",
      "Total params: 4,385\n",
      "Trainable params: 4,385\n",
      "Non-trainable params: 0\n",
      "_________________________________________________________________\n"
     ]
    }
   ],
   "source": [
    "newModel.summary()"
   ]
  },
  {
   "cell_type": "code",
   "execution_count": 142,
   "metadata": {},
   "outputs": [],
   "source": [
    "result = newModel.predict(x_test)"
   ]
  },
  {
   "cell_type": "code",
   "execution_count": 143,
   "metadata": {},
   "outputs": [
    {
     "data": {
      "image/png": "[encoded data removed]",
      "text/plain": [
       "<Figure size 1440x288 with 20 Axes>"
      ]
     },
     "metadata": {
      "needs_background": "light"
     },
     "output_type": "display_data"
    }
   ],
   "source": [
    "n=10\n",
    "plt.figure(figsize=(20,4))\n",
    "for i in range(n):\n",
    "    #display real\n",
    "    ax = plt.subplot(2,n,i+1)\n",
    "    plt.imshow(x_test[i+50].reshape(28,28))\n",
    "    plt.gray()\n",
    "    ax.get_xaxis().set_visible(False)\n",
    "    ax.get_yaxis().set_visible(False)\n",
    "    \n",
    "    #display reconstruct\n",
    "    \n",
    "    ax = plt.subplot(2,n,i+1+n)\n",
    "    plt.imshow(result[i+50].reshape(28,28))\n",
    "    plt.gray()\n",
    "    ax.get_xaxis().set_visible(False)\n",
    "    ax.get_yaxis().set_visible(False)\n",
    "plt.show()"
   ]
  },
  {
   "cell_type": "code",
   "execution_count": null,
   "metadata": {},
   "outputs": [],
   "source": []
  }
 ],
 "metadata": {
  "kernelspec": {
   "display_name": "Python 3",
   "language": "python",
   "name": "python3"
  },
  "language_info": {
   "codemirror_mode": {
    "name": "ipython",
    "version": 3
   },
   "file_extension": ".py",
   "mimetype": "text/x-python",
   "name": "python",
   "nbconvert_exporter": "python",
   "pygments_lexer": "ipython3",
   "version": "3.8.2"
  }
 },
 "nbformat": 4,
 "nbformat_minor": 4
}
