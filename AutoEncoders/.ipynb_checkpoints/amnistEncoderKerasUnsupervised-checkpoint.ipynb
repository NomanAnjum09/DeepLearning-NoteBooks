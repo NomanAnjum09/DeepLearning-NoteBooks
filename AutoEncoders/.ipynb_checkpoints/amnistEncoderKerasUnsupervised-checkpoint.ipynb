{
 "cells": [
  {
   "cell_type": "code",
   "execution_count": 5,
   "metadata": {},
   "outputs": [],
   "source": [
    "from keras.layers import Input, Dense\n",
    "from keras.models import Model"
   ]
  },
  {
   "cell_type": "code",
   "execution_count": 6,
   "metadata": {},
   "outputs": [],
   "source": [
    "#hidden layer\n",
    "\n",
    "encoding_dim = 32\n",
    "\n",
    "#input placeholder from keras\n",
    "input_img = Input(shape=(784,))    \n",
    "#encoded representation of input\n",
    "encoded = Dense(encoding_dim,activation='relu')(input_img)\n",
    "# lossy reconstruction of input\n",
    "decoded = Dense(784, activation='sigmoid')(encoded)\n",
    "# this model maps input to reconstruction\n",
    "autoencoder = Model(input_img,decoded)\n",
    "\n",
    "# tbis model maps inout to its encoded representation\n",
    "encoder = Model(input_img,encoded)\n"
   ]
  },
  {
   "cell_type": "markdown",
   "metadata": {},
   "source": [
    "### Simple ENcoder Model"
   ]
  },
  {
   "cell_type": "code",
   "execution_count": 7,
   "metadata": {},
   "outputs": [],
   "source": [
    "#placeholder for encoded 32 dimensional input\n",
    "encoded_input = Input(shape=(encoding_dim,))\n",
    "#retrieve last layer of autoencoder model\n",
    "decoder_layer = autoencoder.layers[-1]\n",
    "#decoder model\n",
    "decoder = Model(encoded_input, decoder_layer(encoded_input))\n",
    "autoencoder.compile(optimizer='adadelta',loss=\"binary_crossentropy\")"
   ]
  },
  {
   "cell_type": "code",
   "execution_count": 8,
   "metadata": {},
   "outputs": [],
   "source": [
    "#Reading Data\n",
    "from keras.datasets import mnist\n",
    "import numpy as np\n",
    "(x_train,_),(x_test,_) = mnist.load_data()"
   ]
  },
  {
   "cell_type": "code",
   "execution_count": 9,
   "metadata": {},
   "outputs": [
    {
     "name": "stdout",
     "output_type": "stream",
     "text": [
      "(60000, 28, 28)\n",
      "(10000, 28, 28)\n",
      "(60000, 784)\n",
      "(10000, 784)\n"
     ]
    }
   ],
   "source": [
    "x_train = x_train.astype('float32')/255\n",
    "x_test = x_test.astype('float32')/255\n",
    "print(x_train.shape)\n",
    "print(x_test.shape)\n",
    "x_train = x_train.reshape((len(x_train),np.prod(x_train.shape[1:])))\n",
    "x_test = x_test.reshape((len(x_test),np.prod(x_test.shape[1:])))\n",
    "\n",
    "print(x_train.shape)\n",
    "print(x_test.shape)"
   ]
  },
  {
   "cell_type": "markdown",
   "metadata": {},
   "source": [
    "# Fit an autoencoder model"
   ]
  },
  {
   "cell_type": "code",
   "execution_count": 10,
   "metadata": {},
   "outputs": [
    {
     "name": "stdout",
     "output_type": "stream",
     "text": [
      "Train on 60000 samples, validate on 10000 samples\n",
      "Epoch 1/50\n",
      "60000/60000 [==============================] - 4s 62us/step - loss: 0.3681 - val_loss: 0.2710\n",
      "Epoch 2/50\n",
      "60000/60000 [==============================] - 3s 54us/step - loss: 0.2634 - val_loss: 0.2519\n",
      "Epoch 3/50\n",
      "60000/60000 [==============================] - 3s 55us/step - loss: 0.2413 - val_loss: 0.2280\n",
      "Epoch 4/50\n",
      "60000/60000 [==============================] - 3s 55us/step - loss: 0.2205 - val_loss: 0.2108\n",
      "Epoch 5/50\n",
      "60000/60000 [==============================] - 3s 56us/step - loss: 0.2060 - val_loss: 0.1986\n",
      "Epoch 6/50\n",
      "60000/60000 [==============================] - 3s 56us/step - loss: 0.1954 - val_loss: 0.1894\n",
      "Epoch 7/50\n",
      "60000/60000 [==============================] - 3s 55us/step - loss: 0.1872 - val_loss: 0.1821\n",
      "Epoch 8/50\n",
      "60000/60000 [==============================] - 3s 57us/step - loss: 0.1806 - val_loss: 0.1762\n",
      "Epoch 9/50\n",
      "60000/60000 [==============================] - 3s 57us/step - loss: 0.1751 - val_loss: 0.1712\n",
      "Epoch 10/50\n",
      "60000/60000 [==============================] - 3s 58us/step - loss: 0.1704 - val_loss: 0.1668\n",
      "Epoch 11/50\n",
      "60000/60000 [==============================] - 3s 53us/step - loss: 0.1660 - val_loss: 0.1626\n",
      "Epoch 12/50\n",
      "60000/60000 [==============================] - 3s 55us/step - loss: 0.1619 - val_loss: 0.1587\n",
      "Epoch 13/50\n",
      "60000/60000 [==============================] - 3s 57us/step - loss: 0.1581 - val_loss: 0.1551\n",
      "Epoch 14/50\n",
      "60000/60000 [==============================] - 4s 58us/step - loss: 0.1545 - val_loss: 0.1515\n",
      "Epoch 15/50\n",
      "60000/60000 [==============================] - 3s 57us/step - loss: 0.1512 - val_loss: 0.1484\n",
      "Epoch 16/50\n",
      "60000/60000 [==============================] - 3s 58us/step - loss: 0.1483 - val_loss: 0.1455\n",
      "Epoch 17/50\n",
      "60000/60000 [==============================] - 3s 57us/step - loss: 0.1456 - val_loss: 0.1429\n",
      "Epoch 18/50\n",
      "60000/60000 [==============================] - 3s 57us/step - loss: 0.1430 - val_loss: 0.1405\n",
      "Epoch 19/50\n",
      "60000/60000 [==============================] - 3s 57us/step - loss: 0.1407 - val_loss: 0.1382\n",
      "Epoch 20/50\n",
      "60000/60000 [==============================] - 3s 58us/step - loss: 0.1384 - val_loss: 0.1360\n",
      "Epoch 21/50\n",
      "60000/60000 [==============================] - 3s 57us/step - loss: 0.1363 - val_loss: 0.1337\n",
      "Epoch 22/50\n",
      "60000/60000 [==============================] - 3s 57us/step - loss: 0.1342 - val_loss: 0.1317\n",
      "Epoch 23/50\n",
      "60000/60000 [==============================] - 3s 58us/step - loss: 0.1322 - val_loss: 0.1297\n",
      "Epoch 24/50\n",
      "60000/60000 [==============================] - 3s 57us/step - loss: 0.1302 - val_loss: 0.1279\n",
      "Epoch 25/50\n",
      "60000/60000 [==============================] - 3s 58us/step - loss: 0.1284 - val_loss: 0.1260\n",
      "Epoch 26/50\n",
      "60000/60000 [==============================] - 4s 58us/step - loss: 0.1265 - val_loss: 0.1241\n",
      "Epoch 27/50\n",
      "60000/60000 [==============================] - 3s 58us/step - loss: 0.1248 - val_loss: 0.1224\n",
      "Epoch 28/50\n",
      "60000/60000 [==============================] - 4s 60us/step - loss: 0.1231 - val_loss: 0.1207\n",
      "Epoch 29/50\n",
      "60000/60000 [==============================] - 4s 60us/step - loss: 0.1215 - val_loss: 0.1191\n",
      "Epoch 30/50\n",
      "60000/60000 [==============================] - 4s 58us/step - loss: 0.1200 - val_loss: 0.1177\n",
      "Epoch 31/50\n",
      "60000/60000 [==============================] - 3s 57us/step - loss: 0.1187 - val_loss: 0.1164\n",
      "Epoch 32/50\n",
      "60000/60000 [==============================] - 3s 57us/step - loss: 0.1174 - val_loss: 0.1151\n",
      "Epoch 33/50\n",
      "60000/60000 [==============================] - 4s 59us/step - loss: 0.1162 - val_loss: 0.1140\n",
      "Epoch 34/50\n",
      "60000/60000 [==============================] - 4s 58us/step - loss: 0.1151 - val_loss: 0.1129\n",
      "Epoch 35/50\n",
      "60000/60000 [==============================] - 3s 58us/step - loss: 0.1141 - val_loss: 0.1119\n",
      "Epoch 36/50\n",
      "60000/60000 [==============================] - 4s 60us/step - loss: 0.1131 - val_loss: 0.1111\n",
      "Epoch 37/50\n",
      "60000/60000 [==============================] - 3s 57us/step - loss: 0.1122 - val_loss: 0.1102\n",
      "Epoch 38/50\n",
      "60000/60000 [==============================] - 3s 56us/step - loss: 0.1114 - val_loss: 0.1095\n",
      "Epoch 39/50\n",
      "60000/60000 [==============================] - 3s 58us/step - loss: 0.1107 - val_loss: 0.1088\n",
      "Epoch 40/50\n",
      "60000/60000 [==============================] - 4s 59us/step - loss: 0.1100 - val_loss: 0.1081\n",
      "Epoch 41/50\n",
      "60000/60000 [==============================] - 4s 60us/step - loss: 0.1094 - val_loss: 0.1076\n",
      "Epoch 42/50\n",
      "60000/60000 [==============================] - 3s 58us/step - loss: 0.1088 - val_loss: 0.1070\n",
      "Epoch 43/50\n",
      "60000/60000 [==============================] - 3s 57us/step - loss: 0.1083 - val_loss: 0.1065\n",
      "Epoch 44/50\n",
      "60000/60000 [==============================] - 4s 58us/step - loss: 0.1078 - val_loss: 0.1060\n",
      "Epoch 45/50\n",
      "60000/60000 [==============================] - 4s 59us/step - loss: 0.1073 - val_loss: 0.1056\n",
      "Epoch 46/50\n",
      "60000/60000 [==============================] - 3s 58us/step - loss: 0.1069 - val_loss: 0.1052\n",
      "Epoch 47/50\n",
      "60000/60000 [==============================] - 3s 57us/step - loss: 0.1065 - val_loss: 0.1048\n",
      "Epoch 48/50\n",
      "60000/60000 [==============================] - 4s 58us/step - loss: 0.1061 - val_loss: 0.1044\n",
      "Epoch 49/50\n",
      "60000/60000 [==============================] - 3s 58us/step - loss: 0.1058 - val_loss: 0.1040\n",
      "Epoch 50/50\n",
      "60000/60000 [==============================] - 4s 59us/step - loss: 0.1054 - val_loss: 0.1037\n"
     ]
    },
    {
     "data": {
      "text/plain": [
       "<keras.callbacks.callbacks.History at 0x7f581eff86a0>"
      ]
     },
     "execution_count": 10,
     "metadata": {},
     "output_type": "execute_result"
    }
   ],
   "source": [
    "autoencoder.fit(x_train,x_train,\n",
    "               epochs=50,\n",
    "               batch_size=256,\n",
    "               shuffle=True,\n",
    "               validation_data=(x_test,x_test))"
   ]
  },
  {
   "cell_type": "code",
   "execution_count": 11,
   "metadata": {},
   "outputs": [
    {
     "name": "stdout",
     "output_type": "stream",
     "text": [
      "(10000, 32)\n",
      "(10000, 784)\n"
     ]
    }
   ],
   "source": [
    "#encode and decode some digits from test set\n",
    "encoded_imgs = encoder.predict(x_test)\n",
    "decoded_imgs = decoder.predict(encoded_imgs)\n",
    "print(encoded_imgs.shape)\n",
    "print(decoded_imgs.shape)"
   ]
  },
  {
   "cell_type": "markdown",
   "metadata": {},
   "source": [
    "## PLot IMage"
   ]
  },
  {
   "cell_type": "code",
   "execution_count": 12,
   "metadata": {},
   "outputs": [
    {
     "data": {
      "image/png": "[encoded data removed]",
      "text/plain": [
       "<Figure size 1440x288 with 20 Axes>"
      ]
     },
     "metadata": {
      "needs_background": "light"
     },
     "output_type": "display_data"
    }
   ],
   "source": [
    "import matplotlib.pyplot as plt\n",
    "n=10\n",
    "plt.figure(figsize=(20,4))\n",
    "for i in range(n):\n",
    "    #display real\n",
    "    ax = plt.subplot(2,n,i+1)\n",
    "    plt.imshow(x_test[i+50].reshape(28,28))\n",
    "    plt.gray()\n",
    "    ax.get_xaxis().set_visible(False)\n",
    "    ax.get_yaxis().set_visible(False)\n",
    "    \n",
    "    #display reconstruct\n",
    "    \n",
    "    ax = plt.subplot(2,n,i+1+n)\n",
    "    plt.imshow(decoded_imgs[i+50].reshape(28,28))\n",
    "    plt.gray()\n",
    "    ax.get_xaxis().set_visible(False)\n",
    "    ax.get_yaxis().set_visible(False)\n",
    "plt.show()"
   ]
  },
  {
   "cell_type": "code",
   "execution_count": null,
   "metadata": {},
   "outputs": [],
   "source": []
  }
 ],
 "metadata": {
  "kernelspec": {
   "display_name": "Python 3",
   "language": "python",
   "name": "python3"
  },
  "language_info": {
   "codemirror_mode": {
    "name": "ipython",
    "version": 3
   },
   "file_extension": ".py",
   "mimetype": "text/x-python",
   "name": "python",
   "nbconvert_exporter": "python",
   "pygments_lexer": "ipython3",
   "version": "3.8.2"
  }
 },
 "nbformat": 4,
 "nbformat_minor": 4
}
